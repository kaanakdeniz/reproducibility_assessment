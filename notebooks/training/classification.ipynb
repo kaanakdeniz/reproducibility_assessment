{
 "cells": [
  {
   "cell_type": "code",
   "execution_count": 1,
   "metadata": {},
   "outputs": [],
   "source": [
    "import pandas as pd\n",
    "from datasets import Dataset\n",
    "import warnings\n",
    "from sklearn.metrics import accuracy_score, precision_recall_fscore_support\n",
    "from transformers import AutoTokenizer, AutoModelForSequenceClassification, TrainingArguments, Trainer, DataCollatorWithPadding\n",
    "import os\n",
    "import shutil\n",
    "os.environ[\"WANDB_DISABLED\"] = \"true\"\n",
    "warnings.filterwarnings(\"ignore\")\n"
   ]
  },
  {
   "cell_type": "code",
   "execution_count": null,
   "metadata": {},
   "outputs": [],
   "source": [
    "model_name = \"bert-base-uncased\"\n"
   ]
  },
  {
   "cell_type": "code",
   "execution_count": null,
   "metadata": {},
   "outputs": [],
   "source": [
    "id2label = {\n",
    "    0: \"evaluation\",\n",
    "    1: \"introduction\",\n",
    "    2: \"pretrained_model\",\n",
    "    3: \"requirements\",\n",
    "    4: \"results\",\n",
    "    5: \"training\"\n",
    "}\n",
    "\n",
    "label2id = {\n",
    "    \"evaluation\": 0,\n",
    "    \"introduction\": 1,\n",
    "    \"pretrained_model\": 2,\n",
    "    \"requirements\": 3,\n",
    "    \"results\": 4,\n",
    "    \"training\": 5\n",
    "}\n"
   ]
  },
  {
   "cell_type": "code",
   "execution_count": null,
   "metadata": {},
   "outputs": [],
   "source": [
    "def preprocess_function(tokenizer, examples):\n",
    "    return tokenizer(examples[\"text\"], truncation=True)\n"
   ]
  },
  {
   "cell_type": "code",
   "execution_count": null,
   "metadata": {},
   "outputs": [],
   "source": [
    "def flow(data_dir, name):\n",
    "    df = pd.read_csv(data_dir, index_col=0)\n",
    "    if \"parent_header\" in df.columns:\n",
    "        df.parent_header.fillna(\"\", inplace=True)\n",
    "        df[\"text\"] = df[[\"parent_header\", \"header\", \"content\"]].apply(\n",
    "            lambda x: '\\n'.join(filter(None, x)), axis=1)\n",
    "    else:\n",
    "        df[\"text\"] = df[[\"header\", \"content\"]].apply(\n",
    "            lambda x: '\\n'.join(filter(None, x)), axis=1)\n",
    "    df.label = df.label.apply(lambda x: label2id[x])\n",
    "    df = df.reset_index()[[\"text\", \"label\"]]\n",
    "    data = Dataset.from_pandas(df)\n",
    "\n",
    "    tokenizer = AutoTokenizer.from_pretrained(model_name)\n",
    "    model = AutoModelForSequenceClassification.from_pretrained(\n",
    "        model_name, num_labels=6, id2label=id2label, label2id=label2id)\n",
    "\n",
    "    tokenized_data = data.map(\n",
    "        lambda batch: preprocess_function(tokenizer, batch), batched=True)\n",
    "    tokenized_data = tokenized_data.train_test_split(test_size=0.2)\n",
    "    data_collator = DataCollatorWithPadding(tokenizer=tokenizer)\n",
    "\n",
    "    training_args = TrainingArguments(\n",
    "        output_dir=f\"./results/{name}\",\n",
    "        learning_rate=2e-5,\n",
    "        per_device_train_batch_size=16,\n",
    "        per_device_eval_batch_size=64,\n",
    "        num_train_epochs=3,\n",
    "        weight_decay=0.01,\n",
    "        push_to_hub=False,\n",
    "        evaluation_strategy='epoch',\n",
    "        save_strategy=\"epoch\",\n",
    "        load_best_model_at_end=True,\n",
    "    )\n",
    "\n",
    "    trainer = Trainer(\n",
    "        model=model,\n",
    "        args=training_args,\n",
    "        train_dataset=tokenized_data[\"train\"],\n",
    "        eval_dataset=tokenized_data[\"test\"],\n",
    "        tokenizer=tokenizer,\n",
    "        data_collator=data_collator,\n",
    "        compute_metrics=lambda pred: {\n",
    "            'accuracy': accuracy_score(pred.label_ids, pred.predictions.argmax(-1))\n",
    "        }\n",
    "\n",
    "    )\n",
    "\n",
    "    trainer.train()\n",
    "    trainer.save_model(f'./model/{name}')\n"
   ]
  },
  {
   "cell_type": "code",
   "execution_count": null,
   "metadata": {},
   "outputs": [],
   "source": [
    "input_dir = \"/kaggle/input/classification\"\n",
    "data_types = os.listdir(input_dir)\n",
    "\n",
    "print(f\"Different data count: {len(data_types)}\")\n",
    "for data_type in data_types:\n",
    "    flow(os.path.join(dir, data_type), data_type)\n"
   ]
  }
 ],
 "metadata": {
  "kernelspec": {
   "display_name": ".venv",
   "language": "python",
   "name": "python3"
  },
  "language_info": {
   "codemirror_mode": {
    "name": "ipython",
    "version": 3
   },
   "file_extension": ".py",
   "mimetype": "text/x-python",
   "name": "python",
   "nbconvert_exporter": "python",
   "pygments_lexer": "ipython3",
   "version": "3.9.13"
  },
  "orig_nbformat": 4
 },
 "nbformat": 4,
 "nbformat_minor": 2
}
