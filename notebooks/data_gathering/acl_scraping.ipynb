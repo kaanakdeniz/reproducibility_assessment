{
 "cells": [
  {
   "cell_type": "code",
   "execution_count": 1,
   "metadata": {},
   "outputs": [],
   "source": [
    "import pandas as pd\n",
    "from acl_anthology_scraper import ACL"
   ]
  },
  {
   "cell_type": "code",
   "execution_count": null,
   "metadata": {},
   "outputs": [],
   "source": [
    "acl = ACL()\n",
    "venues = acl.get_venues()\n",
    "paper_list = []\n",
    "info = []\n",
    "for venue in venues:\n",
    "    print(venue.name)\n",
    "    events = venue.get_all_events(2010, 2022)\n",
    "    for event in events:\n",
    "        print(event.year)\n",
    "        antologies = event.get_anthologies()\n",
    "        for anthology in antologies:\n",
    "            print(anthology.name)\n",
    "            papers = anthology.get_papers()\n",
    "            papers_with_code = [\n",
    "                paper for paper in papers if paper.code is not None]\n",
    "            info.append({\n",
    "                \"venue\": venue.name,\n",
    "                \"year\": event.year,\n",
    "                \"anthology\": anthology.name,\n",
    "                \"count\": len(papers),\n",
    "                \"count_with_code\": len(papers_with_code)\n",
    "\n",
    "            })\n",
    "            paper_list += [{\"venue\": event.venue, \"year\": event.year, \"paper\": paper.name, \"code\": paper.get_code_link()}\n",
    "                            for paper in papers_with_code]"
   ]
  },
  {
   "cell_type": "code",
   "execution_count": null,
   "metadata": {},
   "outputs": [],
   "source": [
    "pd.DataFrame(paper_list).to_csv(\n",
    "    \"data/acl/scraping/papers_with_code.csv\", index=False)\n",
    "pd.DataFrame(info).to_csv(\n",
    "    \"data/acl/scraping/anthology_info.csv.csv\", index=False)\n"
   ]
  }
 ],
 "metadata": {
  "kernelspec": {
   "display_name": ".venv",
   "language": "python",
   "name": "python3"
  },
  "language_info": {
   "codemirror_mode": {
    "name": "ipython",
    "version": 3
   },
   "file_extension": ".py",
   "mimetype": "text/x-python",
   "name": "python",
   "nbconvert_exporter": "python",
   "pygments_lexer": "ipython3",
   "version": "3.9.13"
  },
  "orig_nbformat": 4
 },
 "nbformat": 4,
 "nbformat_minor": 2
}
