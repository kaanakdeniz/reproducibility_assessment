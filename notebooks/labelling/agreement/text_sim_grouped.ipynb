{
 "cells": [
  {
   "cell_type": "code",
   "execution_count": 1,
   "metadata": {},
   "outputs": [],
   "source": [
    "import pandas as pd\n",
    "from util.data_structure_helper import get_intersection, min_intersected\n",
    "from itertools import chain\n",
    "from collections import Counter\n",
    "from util.annotator_helper import form_label_dataframes, get_agreement\n"
   ]
  },
  {
   "cell_type": "code",
   "execution_count": 2,
   "metadata": {},
   "outputs": [],
   "source": [
    "annotator2 = pd.read_csv(\n",
    "    \"data/acl/sections/labelled/manuel/sections_grouped_orderby-stars/raw/annotator2.csv\")\n",
    "annotator3 = pd.read_csv(\n",
    "    \"data/acl/sections/labelled/manuel/sections_grouped_orderby-stars/raw/annotator3.csv\")\n",
    "annotator1 = pd.read_csv(\n",
    "    \"data/acl/sections/labelled/manuel/sections_grouped_orderby-stars/raw/annotator1.csv\")\n"
   ]
  },
  {
   "cell_type": "code",
   "execution_count": 3,
   "metadata": {},
   "outputs": [],
   "source": [
    "annotator2_repo = annotator2.groupby(\"repo\").agg({\"label\": \"unique\"}).reset_index()\n",
    "annotator2_repo.label = annotator2_repo.label.apply(\n",
    "    lambda x: [item for sublist in x for item in sublist.split(\"#\")])\n",
    "annotator2_repo.label = annotator2_repo.label.apply(\n",
    "    lambda x: [i for i in x if i != \"irrelevant\"])\n",
    "\n",
    "\n",
    "annotator3_repo = annotator3.groupby(\"repo\").agg({\"label\": \"unique\"}).reset_index()\n",
    "annotator3_repo.label = annotator3_repo.label.apply(\n",
    "    lambda x: [item for sublist in x for item in sublist.split(\"#\")])\n",
    "annotator3_repo.label = annotator3_repo.label.apply(\n",
    "    lambda x: [i for i in x if i != \"irrelevant\"])\n",
    "\n",
    "annotator1_repo = annotator1.groupby(\"repo\").agg({\"label\": \"unique\"}).reset_index()\n",
    "annotator1_repo.label = annotator1_repo.label.apply(\n",
    "    lambda x: [item for sublist in x for item in sublist.split(\"#\")])\n",
    "annotator1_repo.label = annotator1_repo.label.apply(\n",
    "    lambda x: [i for i in x if i != \"irrelevant\"])\n"
   ]
  },
  {
   "cell_type": "code",
   "execution_count": 4,
   "metadata": {},
   "outputs": [],
   "source": [
    "merged_repos = pd.merge(annotator2_repo, annotator3_repo, on=\"repo\", how=\"inner\").merge(\n",
    "    annotator1_repo, on=\"repo\", how=\"inner\")\n",
    "# merged_repos = pd.merge(annotator2_repo, annotator3_repo, on=\"repo\", how=\"outer\").merge(\n",
    "#     annotator1_repo, on=\"repo\", how=\"outer\")\n",
    "merged_repos.rename(columns={\"label_x\": \"label_annotator2\",\n",
    "                             \"label_y\": \"label_annotator3\", \"label\": \"label_annotator1\"}, inplace=True)\n",
    "merged_repos = merged_repos.fillna(\"\").apply(list)\n"
   ]
  },
  {
   "cell_type": "code",
   "execution_count": 5,
   "metadata": {},
   "outputs": [
    {
     "data": {
      "text/html": [
       "<div>\n",
       "<style scoped>\n",
       "    .dataframe tbody tr th:only-of-type {\n",
       "        vertical-align: middle;\n",
       "    }\n",
       "\n",
       "    .dataframe tbody tr th {\n",
       "        vertical-align: top;\n",
       "    }\n",
       "\n",
       "    .dataframe thead th {\n",
       "        text-align: right;\n",
       "    }\n",
       "</style>\n",
       "<table border=\"1\" class=\"dataframe\">\n",
       "  <thead>\n",
       "    <tr style=\"text-align: right;\">\n",
       "      <th></th>\n",
       "      <th>repo</th>\n",
       "      <th>label_annotator2</th>\n",
       "      <th>label_annotator3</th>\n",
       "      <th>label_annotator1</th>\n",
       "      <th>intersection</th>\n",
       "      <th>min_intersection</th>\n",
       "    </tr>\n",
       "  </thead>\n",
       "  <tbody>\n",
       "    <tr>\n",
       "      <th>0</th>\n",
       "      <td>Adapter-Hub/adapter-transformers</td>\n",
       "      <td>[requirements]</td>\n",
       "      <td>[requirements, introduction]</td>\n",
       "      <td>[requirements, evaluation, pretrained_model, r...</td>\n",
       "      <td>[requirements]</td>\n",
       "      <td>[requirements]</td>\n",
       "    </tr>\n",
       "    <tr>\n",
       "      <th>1</th>\n",
       "      <td>ChenRocks/fast_abs_rl</td>\n",
       "      <td>[requirements, evaluation, pretrained_model, t...</td>\n",
       "      <td>[introduction, requirements, evaluation, requi...</td>\n",
       "      <td>[introduction, requirements, evaluation, requi...</td>\n",
       "      <td>[training, pretrained_model, requirements, eva...</td>\n",
       "      <td>[introduction, requirements, training, evaluat...</td>\n",
       "    </tr>\n",
       "    <tr>\n",
       "      <th>2</th>\n",
       "      <td>EagleW/PaperRobot</td>\n",
       "      <td>[]</td>\n",
       "      <td>[introduction]</td>\n",
       "      <td>[introduction]</td>\n",
       "      <td>[]</td>\n",
       "      <td>[introduction]</td>\n",
       "    </tr>\n",
       "    <tr>\n",
       "      <th>3</th>\n",
       "      <td>Embedding/Chinese-Word-Vectors</td>\n",
       "      <td>[evaluation]</td>\n",
       "      <td>[introduction, requirements, evaluation]</td>\n",
       "      <td>[introduction, pretrained_model, results, eval...</td>\n",
       "      <td>[evaluation]</td>\n",
       "      <td>[introduction, evaluation]</td>\n",
       "    </tr>\n",
       "    <tr>\n",
       "      <th>4</th>\n",
       "      <td>EmilyAlsentzer/clinicalBERT</td>\n",
       "      <td>[pretrained_model]</td>\n",
       "      <td>[introduction, requirements, pretrained_model]</td>\n",
       "      <td>[introduction, pretrained_model]</td>\n",
       "      <td>[pretrained_model]</td>\n",
       "      <td>[introduction, pretrained_model]</td>\n",
       "    </tr>\n",
       "  </tbody>\n",
       "</table>\n",
       "</div>"
      ],
      "text/plain": [
       "                               repo  \\\n",
       "0  Adapter-Hub/adapter-transformers   \n",
       "1             ChenRocks/fast_abs_rl   \n",
       "2                 EagleW/PaperRobot   \n",
       "3    Embedding/Chinese-Word-Vectors   \n",
       "4       EmilyAlsentzer/clinicalBERT   \n",
       "\n",
       "                                    label_annotator2  \\\n",
       "0                                     [requirements]   \n",
       "1  [requirements, evaluation, pretrained_model, t...   \n",
       "2                                                 []   \n",
       "3                                       [evaluation]   \n",
       "4                                 [pretrained_model]   \n",
       "\n",
       "                                    label_annotator3  \\\n",
       "0                       [requirements, introduction]   \n",
       "1  [introduction, requirements, evaluation, requi...   \n",
       "2                                     [introduction]   \n",
       "3           [introduction, requirements, evaluation]   \n",
       "4     [introduction, requirements, pretrained_model]   \n",
       "\n",
       "                                    label_annotator1  \\\n",
       "0  [requirements, evaluation, pretrained_model, r...   \n",
       "1  [introduction, requirements, evaluation, requi...   \n",
       "2                                     [introduction]   \n",
       "3  [introduction, pretrained_model, results, eval...   \n",
       "4                   [introduction, pretrained_model]   \n",
       "\n",
       "                                        intersection  \\\n",
       "0                                     [requirements]   \n",
       "1  [training, pretrained_model, requirements, eva...   \n",
       "2                                                 []   \n",
       "3                                       [evaluation]   \n",
       "4                                 [pretrained_model]   \n",
       "\n",
       "                                    min_intersection  \n",
       "0                                     [requirements]  \n",
       "1  [introduction, requirements, training, evaluat...  \n",
       "2                                     [introduction]  \n",
       "3                         [introduction, evaluation]  \n",
       "4                   [introduction, pretrained_model]  "
      ]
     },
     "execution_count": 5,
     "metadata": {},
     "output_type": "execute_result"
    }
   ],
   "source": [
    "merged_repos[\"intersection\"] = merged_repos.apply(\n",
    "    lambda x: get_intersection([x[\"label_annotator2\"], x[\"label_annotator3\"], x[\"label_annotator1\"]]), axis=1)\n",
    "merged_repos[\"min_intersection\"] = merged_repos.apply(\n",
    "    lambda x: min_intersected([x[\"label_annotator2\"], x[\"label_annotator3\"], x[\"label_annotator1\"]], 2), axis=1)\n",
    "merged_repos.head()\n"
   ]
  },
  {
   "cell_type": "code",
   "execution_count": 6,
   "metadata": {},
   "outputs": [],
   "source": [
    "comparison_df = merged_repos.copy()\n",
    "comparison_df[\"label_annotator2_str\"] = comparison_df[\"label_annotator2\"].apply(\n",
    "    lambda x: \"\".join(sorted(x)))\n",
    "comparison_df[\"label_annotator3_str\"] = comparison_df[\"label_annotator3\"].apply(\n",
    "    lambda x: \"\".join(sorted(x)))\n",
    "comparison_df[\"label_annotator1_str\"] = comparison_df[\"label_annotator1\"].apply(\n",
    "    lambda x: \"\".join(sorted(x)))\n"
   ]
  },
  {
   "cell_type": "code",
   "execution_count": 7,
   "metadata": {},
   "outputs": [
    {
     "data": {
      "text/plain": [
       "0.10608479572078666"
      ]
     },
     "execution_count": 7,
     "metadata": {},
     "output_type": "execute_result"
    }
   ],
   "source": [
    "labels = comparison_df[['label_annotator2_str',\n",
    "                        'label_annotator3_str', 'label_annotator1_str']]\n",
    "formed_labels = form_label_dataframes(labels)\n",
    "get_agreement(formed_labels, \"weighted_kappa\")\n"
   ]
  },
  {
   "cell_type": "code",
   "execution_count": 8,
   "metadata": {},
   "outputs": [
    {
     "name": "stdout",
     "output_type": "stream",
     "text": [
      "Number of repos with min intersection equal to intersection:  50\n",
      "Number of repos with min intersection not equal to intersection:  157\n"
     ]
    }
   ],
   "source": [
    "print(\"Number of repos with min intersection equal to intersection: \",\n",
    "      merged_repos[merged_repos.intersection == merged_repos.min_intersection].shape[0])\n",
    "print(\"Number of repos with min intersection not equal to intersection: \",\n",
    "      merged_repos[merged_repos.intersection != merged_repos.min_intersection].shape[0])\n"
   ]
  },
  {
   "cell_type": "code",
   "execution_count": 9,
   "metadata": {},
   "outputs": [],
   "source": [
    "merged_repos[\"union\"] = merged_repos[[\"label_annotator2\", \"label_annotator3\",\n",
    "                                      \"label_annotator1\"]].apply(lambda x: list(set(chain.from_iterable(x))), axis=1)\n"
   ]
  },
  {
   "cell_type": "code",
   "execution_count": 10,
   "metadata": {},
   "outputs": [
    {
     "data": {
      "text/plain": [
       "Counter({'requirements': 141,\n",
       "         'introduction': 146,\n",
       "         'training': 53,\n",
       "         'evaluation': 68,\n",
       "         'pretrained_model': 59,\n",
       "         'results': 28})"
      ]
     },
     "execution_count": 10,
     "metadata": {},
     "output_type": "execute_result"
    }
   ],
   "source": [
    "Counter(list(chain.from_iterable(merged_repos.min_intersection.values.tolist())))\n"
   ]
  },
  {
   "cell_type": "code",
   "execution_count": 11,
   "metadata": {},
   "outputs": [
    {
     "data": {
      "text/plain": [
       "Counter({'requirements': 102,\n",
       "         'training': 31,\n",
       "         'pretrained_model': 27,\n",
       "         'evaluation': 32,\n",
       "         'introduction': 58,\n",
       "         'results': 11})"
      ]
     },
     "execution_count": 11,
     "metadata": {},
     "output_type": "execute_result"
    }
   ],
   "source": [
    "Counter(list(chain.from_iterable(merged_repos.intersection.values.tolist())))\n"
   ]
  },
  {
   "cell_type": "code",
   "execution_count": 12,
   "metadata": {},
   "outputs": [
    {
     "data": {
      "text/plain": [
       "Counter({'introduction': 179,\n",
       "         'requirements': 183,\n",
       "         'training': 95,\n",
       "         'evaluation': 136,\n",
       "         'pretrained_model': 103,\n",
       "         'results': 60})"
      ]
     },
     "execution_count": 12,
     "metadata": {},
     "output_type": "execute_result"
    }
   ],
   "source": [
    "Counter(list(chain.from_iterable(merged_repos.union.values.tolist())))\n"
   ]
  },
  {
   "cell_type": "code",
   "execution_count": 13,
   "metadata": {},
   "outputs": [],
   "source": [
    "# merged_repos[[\"repo\", \"intersection\"]].to_json(\n",
    "#     \"data/acl/sections/labelled/manuel/sections_grouped_orderby-stars/processed/intersection.json\", orient=\"records\")\n",
    "# merged_repos[[\"repo\", \"min_intersection\"]].to_json(\n",
    "#     \"data/acl/sections/labelled/manuel/sections_grouped_orderby-stars/processed/min_intersection.json\", orient=\"records\")\n",
    "# merged_repos[[\"repo\", \"union\"]].to_json(\n",
    "#     \"data/acl/sections/labelled/manuel/sections_grouped_orderby-stars/processed/union.json\", orient=\"records\")\n"
   ]
  }
 ],
 "metadata": {
  "kernelspec": {
   "display_name": ".venv",
   "language": "python",
   "name": "python3"
  },
  "language_info": {
   "codemirror_mode": {
    "name": "ipython",
    "version": 3
   },
   "file_extension": ".py",
   "mimetype": "text/x-python",
   "name": "python",
   "nbconvert_exporter": "python",
   "pygments_lexer": "ipython3",
   "version": "3.9.13"
  },
  "orig_nbformat": 4
 },
 "nbformat": 4,
 "nbformat_minor": 2
}
