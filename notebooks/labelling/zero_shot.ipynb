{
 "cells": [
  {
   "cell_type": "code",
   "execution_count": null,
   "metadata": {},
   "outputs": [],
   "source": [
    "from util.labelling_helper import ZeroShotLabellingHelper\n",
    "from util.readme_parser import ReadmeSectionParser\n",
    "\n",
    "import pandas as pd\n",
    "\n",
    "from tqdm import tqdm\n",
    "from tqdm.auto import tqdm\n",
    "tqdm.pandas()\n"
   ]
  },
  {
   "cell_type": "code",
   "execution_count": null,
   "metadata": {},
   "outputs": [],
   "source": [
    "df = pd.read_csv(\"data/acl/sections/sections_clean.csv\", index_col=0)\n",
    "df.parent_header.fillna(\"\", inplace=True)\n"
   ]
  },
  {
   "cell_type": "code",
   "execution_count": null,
   "metadata": {},
   "outputs": [],
   "source": [
    "labelling_helper = ZeroShotLabellingHelper()\n"
   ]
  },
  {
   "cell_type": "code",
   "execution_count": null,
   "metadata": {},
   "outputs": [],
   "source": [
    "sentence = \"Installation Installing <LINK text='Jigg parser'> (for Japanese)\"\n",
    "labelling_helper.get_most_likely_label(sentence)\n"
   ]
  },
  {
   "attachments": {},
   "cell_type": "markdown",
   "metadata": {},
   "source": [
    "### Base\n"
   ]
  },
  {
   "cell_type": "code",
   "execution_count": null,
   "metadata": {},
   "outputs": [],
   "source": [
    "header_labelled_df = df.copy()\n",
    "header_labelled_df[[\"label\", \"score\"]] = df[\"header\"].progress_apply(\n",
    "    lambda x: pd.Series(labelling_helper.get_most_likely_label(x)))\n"
   ]
  },
  {
   "cell_type": "code",
   "execution_count": null,
   "metadata": {},
   "outputs": [],
   "source": [
    "header_plus_content_labelled_df = df.copy()\n",
    "header_plus_content_labelled_df[[\"label\", \"score\"]] = header_plus_content_labelled_df[[\"parent_header\", \"header\", \"content\"]].progress_apply(\n",
    "    lambda x: pd.Series(labelling_helper.get_most_likely_label(\" \".join(filter(None, x)))), axis=1)\n"
   ]
  },
  {
   "cell_type": "code",
   "execution_count": null,
   "metadata": {},
   "outputs": [],
   "source": [
    "header_content_labelled_df = df.copy()\n",
    "header_content_labelled_df[[\"label\", \"score\"]] = header_content_labelled_df[[\"header\", \"content\"]].progress_apply(\n",
    "    lambda x: pd.Series(labelling_helper.get_most_likely_label(\" \".join(filter(None, x)))), axis=1)\n",
    "# 4:39\n"
   ]
  },
  {
   "cell_type": "code",
   "execution_count": null,
   "metadata": {},
   "outputs": [],
   "source": [
    "content_labelled_df = df.copy()\n",
    "content_labelled_df[[\"label\", \"score\"]] = content_labelled_df[\"content\"].progress_apply(\n",
    "    lambda x: pd.Series(labelling_helper.get_most_likely_label(x)))\n",
    "# 4:33\n"
   ]
  },
  {
   "cell_type": "code",
   "execution_count": null,
   "metadata": {},
   "outputs": [],
   "source": [
    "header_plus_labelled_df = df.copy()\n",
    "header_plus_labelled_df[[\"label\", \"score\"]] = header_plus_labelled_df[[\"parent_header\", \"header\"]].progress_apply(\n",
    "    lambda x: pd.Series(labelling_helper.get_most_likely_label(\" \".join(filter(None, x)))), axis=1)\n",
    "# 2:32\n"
   ]
  },
  {
   "attachments": {},
   "cell_type": "markdown",
   "metadata": {},
   "source": [
    "### Grouped\n"
   ]
  },
  {
   "cell_type": "code",
   "execution_count": null,
   "metadata": {},
   "outputs": [],
   "source": [
    "grouped_df = df.copy()\n",
    "grouped_sections = []\n",
    "\n",
    "for repo in df.repo.unique().tolist():\n",
    "    repo_sections = df[df[\"repo\"] == repo]\n",
    "    grouped = ReadmeSectionParser.group_by_parent_header(repo_sections)\n",
    "    grouped_sections += grouped\n",
    "\n",
    "grouped_sections = pd.DataFrame(grouped_sections)\n"
   ]
  },
  {
   "cell_type": "code",
   "execution_count": null,
   "metadata": {},
   "outputs": [],
   "source": [
    "grouped_labelled_df = grouped_sections.copy()\n",
    "grouped_labelled_df[[\"label\", \"score\"]] = grouped_sections[[\"header\", \"content\"]].progress_apply(\n",
    "    lambda x: pd.Series(labelling_helper.get_most_likely_label(\" \".join(filter(None, x)))), axis=1)\n"
   ]
  },
  {
   "attachments": {},
   "cell_type": "markdown",
   "metadata": {},
   "source": [
    "### Saving\n"
   ]
  },
  {
   "cell_type": "code",
   "execution_count": null,
   "metadata": {},
   "outputs": [],
   "source": [
    "main_dir = \"data/acl/sections/labelled/zeroshot/\"\n",
    "\n",
    "header_labelled_df.to_csv(f\"{main_dir}header.csv\")\n",
    "header_content_labelled_df.to_csv(f\"{main_dir}header_content.csv\")\n",
    "content_labelled_df.to_csv(f\"{main_dir}content.csv\")\n",
    "header_plus_labelled_df.to_csv(f\"{main_dir}header_plus.csv\")\n",
    "header_plus_content_labelled_df.to_csv(f\"{main_dir}header_plus_content.csv\")\n",
    "grouped_labelled_df.to_csv(f\"{main_dir}grouped.csv\")\n"
   ]
  }
 ],
 "metadata": {
  "kernelspec": {
   "display_name": ".venv",
   "language": "python",
   "name": "python3"
  },
  "language_info": {
   "codemirror_mode": {
    "name": "ipython",
    "version": 3
   },
   "file_extension": ".py",
   "mimetype": "text/x-python",
   "name": "python",
   "nbconvert_exporter": "python",
   "pygments_lexer": "ipython3",
   "version": "3.9.13"
  },
  "orig_nbformat": 4
 },
 "nbformat": 4,
 "nbformat_minor": 2
}
