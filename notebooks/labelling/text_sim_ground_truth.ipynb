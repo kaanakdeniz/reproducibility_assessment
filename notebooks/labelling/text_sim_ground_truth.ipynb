{
 "cells": [
  {
   "cell_type": "code",
   "execution_count": 1,
   "metadata": {},
   "outputs": [],
   "source": [
    "from util.readme_parser import ReadmeSectionParser\n",
    "import pandas as pd\n",
    "from tqdm.auto import tqdm\n",
    "from util.labelling_helper import GroundTruthLabellingHelper\n",
    "tqdm.pandas()\n"
   ]
  },
  {
   "cell_type": "code",
   "execution_count": 2,
   "metadata": {},
   "outputs": [],
   "source": [
    "df = pd.read_csv(\"data/acl/sections/sections_clean.csv\", index_col=0)\n",
    "df.parent_header.fillna(\"\", inplace=True)\n"
   ]
  },
  {
   "cell_type": "code",
   "execution_count": 3,
   "metadata": {},
   "outputs": [],
   "source": [
    "labelling_helper = GroundTruthLabellingHelper()\n"
   ]
  },
  {
   "cell_type": "code",
   "execution_count": 4,
   "metadata": {},
   "outputs": [
    {
     "data": {
      "text/plain": [
       "('requirements', 0.24110528826713562)"
      ]
     },
     "execution_count": 4,
     "metadata": {},
     "output_type": "execute_result"
    }
   ],
   "source": [
    "sentence = \"Installation Installing <LINK text='Jigg parser'> (for Japanese)\"\n",
    "labelling_helper.get_most_similar_group(sentence)\n"
   ]
  },
  {
   "attachments": {},
   "cell_type": "markdown",
   "metadata": {},
   "source": [
    "### Base\n"
   ]
  },
  {
   "cell_type": "code",
   "execution_count": 5,
   "metadata": {},
   "outputs": [
    {
     "data": {
      "application/vnd.jupyter.widget-view+json": {
       "model_id": "9ffafd80b83c4066a94da75480dd0e37",
       "version_major": 2,
       "version_minor": 0
      },
      "text/plain": [
       "  0%|          | 0/35463 [00:00<?, ?it/s]"
      ]
     },
     "metadata": {},
     "output_type": "display_data"
    }
   ],
   "source": [
    "header_labelled_df = df.copy()\n",
    "header_labelled_df[[\"label\", \"score\"]] = df[\"header\"].progress_apply(\n",
    "    lambda x: pd.Series(labelling_helper.get_most_similar_group(x)))\n"
   ]
  },
  {
   "cell_type": "code",
   "execution_count": null,
   "metadata": {},
   "outputs": [],
   "source": [
    "content_labelled_df = df.copy()\n",
    "content_labelled_df[[\"label\", \"score\"]] = df[\"content\"].progress_apply(\n",
    "    lambda x: pd.Series(labelling_helper.get_most_similar_group(x)))\n"
   ]
  },
  {
   "cell_type": "code",
   "execution_count": null,
   "metadata": {},
   "outputs": [],
   "source": [
    "header_plus_labelled_df = df.copy()\n",
    "header_plus_labelled_df[[\"label\", \"score\"]] = df[[\"parent_header\", \"header\"]].progress_apply(\n",
    "    lambda x: pd.Series(labelling_helper.get_most_similar_group(\" \".join(filter(None, x)))), axis=1)\n"
   ]
  },
  {
   "cell_type": "code",
   "execution_count": null,
   "metadata": {},
   "outputs": [],
   "source": [
    "header_content_labelled_df = df.copy()\n",
    "header_content_labelled_df[[\"label\", \"score\"]] = header_content_labelled_df[[\"header\", \"content\"]].progress_apply(\n",
    "    lambda x: pd.Series(labelling_helper.get_most_similar_group(\" \".join(filter(None, x)))), axis=1)\n"
   ]
  },
  {
   "cell_type": "code",
   "execution_count": null,
   "metadata": {},
   "outputs": [],
   "source": [
    "header_plus_content_labelled_df = df.copy()\n",
    "header_plus_content_labelled_df[[\"label\", \"score\"]] = header_plus_content_labelled_df[[\"parent_header\", \"header\", \"content\"]].progress_apply(\n",
    "    lambda x: pd.Series(labelling_helper.get_most_similar_group(\" \".join(filter(None, x)))), axis=1)\n"
   ]
  },
  {
   "attachments": {},
   "cell_type": "markdown",
   "metadata": {},
   "source": [
    "### Grouped\n"
   ]
  },
  {
   "cell_type": "code",
   "execution_count": null,
   "metadata": {},
   "outputs": [],
   "source": [
    "grouped_df = df.copy()\n",
    "grouped_sections = []\n",
    "\n",
    "for repo in df.repo.unique().tolist():\n",
    "    repo_sections = df[df[\"repo\"] == repo]\n",
    "    grouped = ReadmeSectionParser.group_by_parent_header(repo_sections)\n",
    "    grouped_sections += grouped\n",
    "\n",
    "grouped_sections = pd.DataFrame(grouped_sections)\n"
   ]
  },
  {
   "cell_type": "code",
   "execution_count": null,
   "metadata": {},
   "outputs": [
    {
     "data": {
      "application/vnd.jupyter.widget-view+json": {
       "model_id": "4f4041203e954700919b7984c462d84b",
       "version_major": 2,
       "version_minor": 0
      },
      "text/plain": [
       "  0%|          | 0/22032 [00:00<?, ?it/s]"
      ]
     },
     "metadata": {},
     "output_type": "display_data"
    }
   ],
   "source": [
    "grouped_labelled_df = grouped_sections.copy()\n",
    "grouped_labelled_df[[\"label\", \"score\"]] = grouped_sections[[\"header\", \"content\"]].progress_apply(\n",
    "    lambda x: pd.Series(labelling_helper.get_most_similar_group(\" \".join(filter(None, x)))), axis=1)\n"
   ]
  },
  {
   "attachments": {},
   "cell_type": "markdown",
   "metadata": {},
   "source": [
    "### Saving\n"
   ]
  },
  {
   "cell_type": "code",
   "execution_count": null,
   "metadata": {},
   "outputs": [],
   "source": [
    "# main_dir = \"data/acl/sections/labelled/text_sim_ground_truth/\"\n",
    "\n",
    "# header_labelled_df.to_csv(f\"{main_dir}header.csv\")\n",
    "# header_plus_labelled_df.to_csv(f\"{main_dir}header_plus.csv\")\n",
    "# content_labelled_df.to_csv(f\"{main_dir}content.csv\")\n",
    "# header_content_labelled_df.to_csv(f\"{main_dir}header_content.csv\")\n",
    "# header_plus_content_labelled_df.to_csv(\n",
    "#     f\"{main_dir}header_plus_content.csv\")\n",
    "# grouped_labelled_df.to_csv(\n",
    "#     f\"{main_dir}grouped.csv\")\n"
   ]
  }
 ],
 "metadata": {
  "kernelspec": {
   "display_name": ".venv",
   "language": "python",
   "name": "python3"
  },
  "language_info": {
   "codemirror_mode": {
    "name": "ipython",
    "version": 3
   },
   "file_extension": ".py",
   "mimetype": "text/x-python",
   "name": "python",
   "nbconvert_exporter": "python",
   "pygments_lexer": "ipython3",
   "version": "3.9.13"
  },
  "orig_nbformat": 4
 },
 "nbformat": 4,
 "nbformat_minor": 2
}
