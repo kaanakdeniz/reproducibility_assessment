{
 "cells": [
  {
   "cell_type": "code",
   "execution_count": 28,
   "metadata": {},
   "outputs": [],
   "source": [
    "import pandas as pd\n",
    "from util.annotator_helper import form_label_dataframes, get_agreement\n"
   ]
  },
  {
   "cell_type": "code",
   "execution_count": 29,
   "metadata": {},
   "outputs": [],
   "source": [
    "human_labelled = pd.read_csv(\n",
    "    'data/acl/sections/labelled/manuel/text_sim_header/processed/partially_agreed_non_irrelevants.csv', index_col=0)\n",
    "indexes = human_labelled.index\n",
    "selected_metric = \"weighted_kappa\"\n"
   ]
  },
  {
   "cell_type": "code",
   "execution_count": 30,
   "metadata": {},
   "outputs": [
    {
     "data": {
      "text/plain": [
       "((731, 2), (731,))"
      ]
     },
     "execution_count": 30,
     "metadata": {},
     "output_type": "execute_result"
    }
   ],
   "source": [
    "human_labelled.shape, indexes.shape\n"
   ]
  },
  {
   "cell_type": "code",
   "execution_count": 31,
   "metadata": {},
   "outputs": [],
   "source": [
    "main_dir = \"data/acl/sections/labelled/zeroshot/\"\n",
    "\n",
    "header_labelled_df = pd.read_csv(f\"{main_dir}header.csv\", index_col=0)\n",
    "header_concat_labelled_df = pd.read_csv(\n",
    "    f\"{main_dir}header_plus.csv\", index_col=0)\n",
    "content_labelled_df = pd.read_csv(f\"{main_dir}content.csv\", index_col=0)\n",
    "header_content_labelled_df = pd.read_csv(\n",
    "    f\"{main_dir}header_content.csv\", index_col=0)\n",
    "header_concat_content_labelled_df = pd.read_csv(\n",
    "    f\"{main_dir}header_plus_content.csv\", index_col=0)\n",
    "grouped_labelled_df = pd.read_csv(f\"{main_dir}grouped.csv\", index_col=0)\n"
   ]
  },
  {
   "cell_type": "code",
   "execution_count": 32,
   "metadata": {},
   "outputs": [],
   "source": [
    "human_labelled = human_labelled.assign(\n",
    "    header_labelled=header_labelled_df.loc[indexes].label.values, header_labelled_score=header_labelled_df.loc[indexes].score.values)\n",
    "\n",
    "human_labelled = human_labelled.assign(\n",
    "    header_labelled=header_labelled_df.loc[indexes].label.values, header_labelled_score=header_labelled_df.loc[indexes].score.values)\n",
    "human_labelled = human_labelled.assign(\n",
    "    header_concat_labelled=header_concat_labelled_df.loc[indexes].label.values, header_concat_labelled_score=header_concat_labelled_df.loc[indexes].score.values)\n",
    "human_labelled = human_labelled.assign(\n",
    "    content_labelled=content_labelled_df.loc[indexes].label.values, content_labelled_score=content_labelled_df.loc[indexes].score.values)\n",
    "human_labelled = human_labelled.assign(\n",
    "    header_content_labelled=header_content_labelled_df.loc[indexes].label.values, header_content_labelled_score=header_content_labelled_df.loc[indexes].score.values)\n",
    "human_labelled = human_labelled.assign(header_concat_content_labelled=header_concat_content_labelled_df.loc[\n",
    "                                       indexes].label.values, header_concat_content_labelled_score=header_concat_content_labelled_df.loc[indexes].score.values)\n"
   ]
  },
  {
   "cell_type": "code",
   "execution_count": 33,
   "metadata": {},
   "outputs": [],
   "source": [
    "all_scores = pd.DataFrame()\n",
    "all_scores = all_scores.assign(\n",
    "    header_labelled=header_labelled_df.label.values, header_labelled_score=header_labelled_df.score.values)\n",
    "all_scores = all_scores.assign(\n",
    "    header_concat_labelled=header_concat_labelled_df.label.values, header_concat_labelled_score=header_concat_labelled_df.score.values)\n",
    "all_scores = all_scores.assign(\n",
    "    content_labelled=content_labelled_df.label.values, content_labelled_score=content_labelled_df.score.values)\n",
    "all_scores = all_scores.assign(\n",
    "    header_content_labelled=header_content_labelled_df.label.values, header_content_labelled_score=header_content_labelled_df.score.values)\n",
    "all_scores = all_scores.assign(header_concat_content_labelled=header_concat_content_labelled_df.label.values,\n",
    "                               header_concat_content_labelled_score=header_concat_content_labelled_df.score.values)\n"
   ]
  },
  {
   "cell_type": "code",
   "execution_count": 34,
   "metadata": {},
   "outputs": [
    {
     "name": "stdout",
     "output_type": "stream",
     "text": [
      "Similarity Score Means For Each Labelling Method That Agreed With The Human Labelling\n"
     ]
    },
    {
     "data": {
      "text/html": [
       "<style type=\"text/css\">\n",
       "#T_2c2f9_row0_col0 {\n",
       "  background-color: #482475;\n",
       "  color: #f1f1f1;\n",
       "}\n",
       "#T_2c2f9_row1_col0 {\n",
       "  background-color: #25848e;\n",
       "  color: #f1f1f1;\n",
       "}\n",
       "#T_2c2f9_row2_col0 {\n",
       "  background-color: #440154;\n",
       "  color: #f1f1f1;\n",
       "}\n",
       "#T_2c2f9_row3_col0 {\n",
       "  background-color: #40bd72;\n",
       "  color: #f1f1f1;\n",
       "}\n",
       "#T_2c2f9_row4_col0 {\n",
       "  background-color: #fde725;\n",
       "  color: #000000;\n",
       "}\n",
       "</style>\n",
       "<table id=\"T_2c2f9\">\n",
       "  <thead>\n",
       "    <tr>\n",
       "      <th class=\"blank level0\" >&nbsp;</th>\n",
       "      <th id=\"T_2c2f9_level0_col0\" class=\"col_heading level0 col0\" >mean</th>\n",
       "    </tr>\n",
       "  </thead>\n",
       "  <tbody>\n",
       "    <tr>\n",
       "      <th id=\"T_2c2f9_level0_row0\" class=\"row_heading level0 row0\" >header_labelled_score</th>\n",
       "      <td id=\"T_2c2f9_row0_col0\" class=\"data row0 col0\" >0.698</td>\n",
       "    </tr>\n",
       "    <tr>\n",
       "      <th id=\"T_2c2f9_level0_row1\" class=\"row_heading level0 row1\" >header_concat_labelled_score</th>\n",
       "      <td id=\"T_2c2f9_row1_col0\" class=\"data row1 col0\" >0.720</td>\n",
       "    </tr>\n",
       "    <tr>\n",
       "      <th id=\"T_2c2f9_level0_row2\" class=\"row_heading level0 row2\" >content_labelled_score</th>\n",
       "      <td id=\"T_2c2f9_row2_col0\" class=\"data row2 col0\" >0.692</td>\n",
       "    </tr>\n",
       "    <tr>\n",
       "      <th id=\"T_2c2f9_level0_row3\" class=\"row_heading level0 row3\" >header_content_labelled_score</th>\n",
       "      <td id=\"T_2c2f9_row3_col0\" class=\"data row3 col0\" >0.735</td>\n",
       "    </tr>\n",
       "    <tr>\n",
       "      <th id=\"T_2c2f9_level0_row4\" class=\"row_heading level0 row4\" >header_concat_content_labelled_score</th>\n",
       "      <td id=\"T_2c2f9_row4_col0\" class=\"data row4 col0\" >0.754</td>\n",
       "    </tr>\n",
       "  </tbody>\n",
       "</table>\n"
      ],
      "text/plain": [
       "<pandas.io.formats.style.Styler at 0x2a60733f670>"
      ]
     },
     "execution_count": 34,
     "metadata": {},
     "output_type": "execute_result"
    }
   ],
   "source": [
    "print(\"Similarity score means for each labelling method that agreed with the human labelling\".title())\n",
    "pd.DataFrame(human_labelled.mean(numeric_only=True).round(4).to_dict(), index=[\"mean\"]).T.style.background_gradient(\n",
    "    cmap='viridis', axis=0).format(\"{:.3f}\")\n"
   ]
  },
  {
   "cell_type": "code",
   "execution_count": 35,
   "metadata": {},
   "outputs": [
    {
     "name": "stdout",
     "output_type": "stream",
     "text": [
      "Similarity Score Means For Each Labelling Method\n"
     ]
    },
    {
     "data": {
      "text/html": [
       "<style type=\"text/css\">\n",
       "#T_984fd_row0_col0 {\n",
       "  background-color: #440154;\n",
       "  color: #f1f1f1;\n",
       "}\n",
       "#T_984fd_row1_col0 {\n",
       "  background-color: #3c4f8a;\n",
       "  color: #f1f1f1;\n",
       "}\n",
       "#T_984fd_row2_col0 {\n",
       "  background-color: #2d718e;\n",
       "  color: #f1f1f1;\n",
       "}\n",
       "#T_984fd_row3_col0 {\n",
       "  background-color: #6ccd5a;\n",
       "  color: #000000;\n",
       "}\n",
       "#T_984fd_row4_col0 {\n",
       "  background-color: #fde725;\n",
       "  color: #000000;\n",
       "}\n",
       "#T_984fd_row5_col0 {\n",
       "  background-color: #2eb37c;\n",
       "  color: #f1f1f1;\n",
       "}\n",
       "</style>\n",
       "<table id=\"T_984fd\">\n",
       "  <thead>\n",
       "    <tr>\n",
       "      <th class=\"blank level0\" >&nbsp;</th>\n",
       "      <th id=\"T_984fd_level0_col0\" class=\"col_heading level0 col0\" >mean</th>\n",
       "    </tr>\n",
       "  </thead>\n",
       "  <tbody>\n",
       "    <tr>\n",
       "      <th id=\"T_984fd_level0_row0\" class=\"row_heading level0 row0\" >header_labelled_score</th>\n",
       "      <td id=\"T_984fd_row0_col0\" class=\"data row0 col0\" >0.638</td>\n",
       "    </tr>\n",
       "    <tr>\n",
       "      <th id=\"T_984fd_level0_row1\" class=\"row_heading level0 row1\" >header_concat_labelled_score</th>\n",
       "      <td id=\"T_984fd_row1_col0\" class=\"data row1 col0\" >0.653</td>\n",
       "    </tr>\n",
       "    <tr>\n",
       "      <th id=\"T_984fd_level0_row2\" class=\"row_heading level0 row2\" >content_labelled_score</th>\n",
       "      <td id=\"T_984fd_row2_col0\" class=\"data row2 col0\" >0.661</td>\n",
       "    </tr>\n",
       "    <tr>\n",
       "      <th id=\"T_984fd_level0_row3\" class=\"row_heading level0 row3\" >header_content_labelled_score</th>\n",
       "      <td id=\"T_984fd_row3_col0\" class=\"data row3 col0\" >0.686</td>\n",
       "    </tr>\n",
       "    <tr>\n",
       "      <th id=\"T_984fd_level0_row4\" class=\"row_heading level0 row4\" >header_concat_content_labelled_score</th>\n",
       "      <td id=\"T_984fd_row4_col0\" class=\"data row4 col0\" >0.700</td>\n",
       "    </tr>\n",
       "    <tr>\n",
       "      <th id=\"T_984fd_level0_row5\" class=\"row_heading level0 row5\" >grouped_score</th>\n",
       "      <td id=\"T_984fd_row5_col0\" class=\"data row5 col0\" >0.678</td>\n",
       "    </tr>\n",
       "  </tbody>\n",
       "</table>\n"
      ],
      "text/plain": [
       "<pandas.io.formats.style.Styler at 0x2a603c6ae50>"
      ]
     },
     "execution_count": 35,
     "metadata": {},
     "output_type": "execute_result"
    }
   ],
   "source": [
    "all_scores_means = {}\n",
    "\n",
    "for labelling in all_scores.select_dtypes(exclude=['float64']).columns.tolist():\n",
    "    mean = all_scores[f\"{labelling}_score\"].mean()\n",
    "    all_scores_means[f\"{labelling}_score\"] = round(mean, 3)\n",
    "\n",
    "print(\"Similarity score means for each labelling method\".title())\n",
    "all_scores_means[\"grouped_score\"] = grouped_labelled_df.mean(\n",
    "    numeric_only=True).round(4).to_dict()[\"score\"]\n",
    "similarity_scores = pd.DataFrame(all_scores_means, index=[\"mean\"]).T\n",
    "similarity_scores.style.background_gradient(\n",
    "    cmap='viridis', axis=0).format(\"{:.3f}\")\n"
   ]
  },
  {
   "cell_type": "code",
   "execution_count": 36,
   "metadata": {},
   "outputs": [
    {
     "name": "stdout",
     "output_type": "stream",
     "text": [
      "Similarity Score Means For Each Labelling Method That Agreed With The Human Labelling\n"
     ]
    },
    {
     "data": {
      "text/html": [
       "<style type=\"text/css\">\n",
       "#T_157e7_row0_col4, #T_157e7_row1_col3, #T_157e7_row2_col0, #T_157e7_row3_col4, #T_157e7_row4_col1, #T_157e7_row5_col0 {\n",
       "  background-color: green;\n",
       "}\n",
       "</style>\n",
       "<table id=\"T_157e7\">\n",
       "  <thead>\n",
       "    <tr>\n",
       "      <th class=\"blank level0\" >&nbsp;</th>\n",
       "      <th id=\"T_157e7_level0_col0\" class=\"col_heading level0 col0\" >header_labelled_score</th>\n",
       "      <th id=\"T_157e7_level0_col1\" class=\"col_heading level0 col1\" >header_concat_labelled_score</th>\n",
       "      <th id=\"T_157e7_level0_col2\" class=\"col_heading level0 col2\" >content_labelled_score</th>\n",
       "      <th id=\"T_157e7_level0_col3\" class=\"col_heading level0 col3\" >header_content_labelled_score</th>\n",
       "      <th id=\"T_157e7_level0_col4\" class=\"col_heading level0 col4\" >header_concat_content_labelled_score</th>\n",
       "    </tr>\n",
       "    <tr>\n",
       "      <th class=\"index_name level0\" >human</th>\n",
       "      <th class=\"blank col0\" >&nbsp;</th>\n",
       "      <th class=\"blank col1\" >&nbsp;</th>\n",
       "      <th class=\"blank col2\" >&nbsp;</th>\n",
       "      <th class=\"blank col3\" >&nbsp;</th>\n",
       "      <th class=\"blank col4\" >&nbsp;</th>\n",
       "    </tr>\n",
       "  </thead>\n",
       "  <tbody>\n",
       "    <tr>\n",
       "      <th id=\"T_157e7_level0_row0\" class=\"row_heading level0 row0\" >evaluation</th>\n",
       "      <td id=\"T_157e7_row0_col0\" class=\"data row0 col0\" >0.838</td>\n",
       "      <td id=\"T_157e7_row0_col1\" class=\"data row0 col1\" >0.845</td>\n",
       "      <td id=\"T_157e7_row0_col2\" class=\"data row0 col2\" >0.836</td>\n",
       "      <td id=\"T_157e7_row0_col3\" class=\"data row0 col3\" >0.878</td>\n",
       "      <td id=\"T_157e7_row0_col4\" class=\"data row0 col4\" >0.902</td>\n",
       "    </tr>\n",
       "    <tr>\n",
       "      <th id=\"T_157e7_level0_row1\" class=\"row_heading level0 row1\" >introduction</th>\n",
       "      <td id=\"T_157e7_row1_col0\" class=\"data row1 col0\" >0.711</td>\n",
       "      <td id=\"T_157e7_row1_col1\" class=\"data row1 col1\" >0.759</td>\n",
       "      <td id=\"T_157e7_row1_col2\" class=\"data row1 col2\" >0.782</td>\n",
       "      <td id=\"T_157e7_row1_col3\" class=\"data row1 col3\" >0.840</td>\n",
       "      <td id=\"T_157e7_row1_col4\" class=\"data row1 col4\" >0.838</td>\n",
       "    </tr>\n",
       "    <tr>\n",
       "      <th id=\"T_157e7_level0_row2\" class=\"row_heading level0 row2\" >pretrained_model</th>\n",
       "      <td id=\"T_157e7_row2_col0\" class=\"data row2 col0\" >0.916</td>\n",
       "      <td id=\"T_157e7_row2_col1\" class=\"data row2 col1\" >0.879</td>\n",
       "      <td id=\"T_157e7_row2_col2\" class=\"data row2 col2\" >0.652</td>\n",
       "      <td id=\"T_157e7_row2_col3\" class=\"data row2 col3\" >0.722</td>\n",
       "      <td id=\"T_157e7_row2_col4\" class=\"data row2 col4\" >0.717</td>\n",
       "    </tr>\n",
       "    <tr>\n",
       "      <th id=\"T_157e7_level0_row3\" class=\"row_heading level0 row3\" >requirements</th>\n",
       "      <td id=\"T_157e7_row3_col0\" class=\"data row3 col0\" >0.753</td>\n",
       "      <td id=\"T_157e7_row3_col1\" class=\"data row3 col1\" >0.754</td>\n",
       "      <td id=\"T_157e7_row3_col2\" class=\"data row3 col2\" >0.655</td>\n",
       "      <td id=\"T_157e7_row3_col3\" class=\"data row3 col3\" >0.764</td>\n",
       "      <td id=\"T_157e7_row3_col4\" class=\"data row3 col4\" >0.782</td>\n",
       "    </tr>\n",
       "    <tr>\n",
       "      <th id=\"T_157e7_level0_row4\" class=\"row_heading level0 row4\" >results</th>\n",
       "      <td id=\"T_157e7_row4_col0\" class=\"data row4 col0\" >0.778</td>\n",
       "      <td id=\"T_157e7_row4_col1\" class=\"data row4 col1\" >0.925</td>\n",
       "      <td id=\"T_157e7_row4_col2\" class=\"data row4 col2\" >0.817</td>\n",
       "      <td id=\"T_157e7_row4_col3\" class=\"data row4 col3\" >0.864</td>\n",
       "      <td id=\"T_157e7_row4_col4\" class=\"data row4 col4\" >0.921</td>\n",
       "    </tr>\n",
       "    <tr>\n",
       "      <th id=\"T_157e7_level0_row5\" class=\"row_heading level0 row5\" >training</th>\n",
       "      <td id=\"T_157e7_row5_col0\" class=\"data row5 col0\" >0.964</td>\n",
       "      <td id=\"T_157e7_row5_col1\" class=\"data row5 col1\" >0.963</td>\n",
       "      <td id=\"T_157e7_row5_col2\" class=\"data row5 col2\" >0.906</td>\n",
       "      <td id=\"T_157e7_row5_col3\" class=\"data row5 col3\" >0.931</td>\n",
       "      <td id=\"T_157e7_row5_col4\" class=\"data row5 col4\" >0.937</td>\n",
       "    </tr>\n",
       "  </tbody>\n",
       "</table>\n"
      ],
      "text/plain": [
       "<pandas.io.formats.style.Styler at 0x2a609e1b5e0>"
      ]
     },
     "execution_count": 36,
     "metadata": {},
     "output_type": "execute_result"
    }
   ],
   "source": [
    "print(\"Similarity score means for each labelling method That Agreed With The Human Labelling\".title())\n",
    "labelling_based_scores_means = []\n",
    "for labelling in human_labelled.iloc[:, 2:].select_dtypes(exclude=['float64']).columns.tolist():\n",
    "    means = human_labelled[human_labelled.human ==\n",
    "                           human_labelled[labelling]][[\"human\", labelling, f\"{labelling}_score\"]].groupby(\"human\").mean(numeric_only=True).round(3).reset_index()\n",
    "    labelling_based_scores_means.append(means)\n",
    "labelling_based_scores_mean_all = pd.concat(\n",
    "    labelling_based_scores_means, axis=1).T.drop_duplicates().T\n",
    "labelling_based_scores_mean_all.set_index(\"human\", inplace=True)\n",
    "labelling_based_scores_mean_all.style.highlight_max(\n",
    "    axis=1, color='green').format(\"{:.3f}\")\n"
   ]
  },
  {
   "cell_type": "code",
   "execution_count": 37,
   "metadata": {},
   "outputs": [
    {
     "name": "stdout",
     "output_type": "stream",
     "text": [
      "Agreement Score For Each Labelling Method With Human Annotation\n"
     ]
    },
    {
     "data": {
      "text/html": [
       "<style type=\"text/css\">\n",
       "#T_c06eb_row0_col0 {\n",
       "  background-color: #5ac864;\n",
       "  color: #000000;\n",
       "}\n",
       "#T_c06eb_row1_col0 {\n",
       "  background-color: #c8e020;\n",
       "  color: #000000;\n",
       "}\n",
       "#T_c06eb_row2_col0 {\n",
       "  background-color: #440154;\n",
       "  color: #f1f1f1;\n",
       "}\n",
       "#T_c06eb_row3_col0 {\n",
       "  background-color: #efe51c;\n",
       "  color: #000000;\n",
       "}\n",
       "#T_c06eb_row4_col0 {\n",
       "  background-color: #fde725;\n",
       "  color: #000000;\n",
       "}\n",
       "</style>\n",
       "<table id=\"T_c06eb\">\n",
       "  <thead>\n",
       "    <tr>\n",
       "      <th class=\"blank level0\" >&nbsp;</th>\n",
       "      <th id=\"T_c06eb_level0_col0\" class=\"col_heading level0 col0\" >kappa</th>\n",
       "    </tr>\n",
       "  </thead>\n",
       "  <tbody>\n",
       "    <tr>\n",
       "      <th id=\"T_c06eb_level0_row0\" class=\"row_heading level0 row0\" >header_labelled</th>\n",
       "      <td id=\"T_c06eb_row0_col0\" class=\"data row0 col0\" >0.314</td>\n",
       "    </tr>\n",
       "    <tr>\n",
       "      <th id=\"T_c06eb_level0_row1\" class=\"row_heading level0 row1\" >header_concat_labelled</th>\n",
       "      <td id=\"T_c06eb_row1_col0\" class=\"data row1 col0\" >0.332</td>\n",
       "    </tr>\n",
       "    <tr>\n",
       "      <th id=\"T_c06eb_level0_row2\" class=\"row_heading level0 row2\" >content_labelled</th>\n",
       "      <td id=\"T_c06eb_row2_col0\" class=\"data row2 col0\" >0.236</td>\n",
       "    </tr>\n",
       "    <tr>\n",
       "      <th id=\"T_c06eb_level0_row3\" class=\"row_heading level0 row3\" >header_content_labelled</th>\n",
       "      <td id=\"T_c06eb_row3_col0\" class=\"data row3 col0\" >0.338</td>\n",
       "    </tr>\n",
       "    <tr>\n",
       "      <th id=\"T_c06eb_level0_row4\" class=\"row_heading level0 row4\" >header_concat_content_labelled</th>\n",
       "      <td id=\"T_c06eb_row4_col0\" class=\"data row4 col0\" >0.341</td>\n",
       "    </tr>\n",
       "  </tbody>\n",
       "</table>\n"
      ],
      "text/plain": [
       "<pandas.io.formats.style.Styler at 0x2a60733f730>"
      ]
     },
     "execution_count": 37,
     "metadata": {},
     "output_type": "execute_result"
    }
   ],
   "source": [
    "print(\"Agreement score for each labelling method with human annotation\".title())\n",
    "agreements = {}\n",
    "for labelling in human_labelled.iloc[:, 2:].select_dtypes(exclude=['float64']).columns.tolist():\n",
    "    annotations = form_label_dataframes(\n",
    "        human_labelled[[\"human\", labelling]])\n",
    "    agreements[labelling] = get_agreement(annotations, selected_metric)\n",
    "kappa = pd.DataFrame(agreements, index=[\"kappa\"]).T\n",
    "kappa.style.background_gradient(\n",
    "    cmap='viridis', axis=0).format(\"{:.3f}\")\n"
   ]
  },
  {
   "cell_type": "code",
   "execution_count": 38,
   "metadata": {},
   "outputs": [
    {
     "name": "stdout",
     "output_type": "stream",
     "text": [
      "Agreement Score Means For Each Labelling Method\n"
     ]
    },
    {
     "data": {
      "text/html": [
       "<style type=\"text/css\">\n",
       "#T_9b257_row0_col0, #T_9b257_row0_col1, #T_9b257_row0_col2, #T_9b257_row0_col3, #T_9b257_row0_col4, #T_9b257_row1_col0, #T_9b257_row1_col1, #T_9b257_row1_col2, #T_9b257_row1_col3, #T_9b257_row1_col4, #T_9b257_row2_col0, #T_9b257_row2_col1, #T_9b257_row2_col2, #T_9b257_row2_col3, #T_9b257_row2_col4, #T_9b257_row3_col0, #T_9b257_row3_col1, #T_9b257_row3_col2, #T_9b257_row3_col3, #T_9b257_row3_col4, #T_9b257_row4_col0, #T_9b257_row4_col1, #T_9b257_row4_col2, #T_9b257_row4_col3, #T_9b257_row4_col4, #T_9b257_row5_col0, #T_9b257_row5_col1, #T_9b257_row5_col2, #T_9b257_row5_col3, #T_9b257_row5_col4 {\n",
       "  background-color: green;\n",
       "}\n",
       "</style>\n",
       "<table id=\"T_9b257\">\n",
       "  <thead>\n",
       "    <tr>\n",
       "      <th class=\"blank level0\" >&nbsp;</th>\n",
       "      <th id=\"T_9b257_level0_col0\" class=\"col_heading level0 col0\" >header_labelled</th>\n",
       "      <th id=\"T_9b257_level0_col1\" class=\"col_heading level0 col1\" >header_concat_labelled</th>\n",
       "      <th id=\"T_9b257_level0_col2\" class=\"col_heading level0 col2\" >content_labelled</th>\n",
       "      <th id=\"T_9b257_level0_col3\" class=\"col_heading level0 col3\" >header_content_labelled</th>\n",
       "      <th id=\"T_9b257_level0_col4\" class=\"col_heading level0 col4\" >header_concat_content_labelled</th>\n",
       "    </tr>\n",
       "  </thead>\n",
       "  <tbody>\n",
       "    <tr>\n",
       "      <th id=\"T_9b257_level0_row0\" class=\"row_heading level0 row0\" >requirements</th>\n",
       "      <td id=\"T_9b257_row0_col0\" class=\"data row0 col0\" >0.000</td>\n",
       "      <td id=\"T_9b257_row0_col1\" class=\"data row0 col1\" >0.000</td>\n",
       "      <td id=\"T_9b257_row0_col2\" class=\"data row0 col2\" >0.000</td>\n",
       "      <td id=\"T_9b257_row0_col3\" class=\"data row0 col3\" >0.000</td>\n",
       "      <td id=\"T_9b257_row0_col4\" class=\"data row0 col4\" >0.000</td>\n",
       "    </tr>\n",
       "    <tr>\n",
       "      <th id=\"T_9b257_level0_row1\" class=\"row_heading level0 row1\" >introduction</th>\n",
       "      <td id=\"T_9b257_row1_col0\" class=\"data row1 col0\" >0.000</td>\n",
       "      <td id=\"T_9b257_row1_col1\" class=\"data row1 col1\" >0.000</td>\n",
       "      <td id=\"T_9b257_row1_col2\" class=\"data row1 col2\" >0.000</td>\n",
       "      <td id=\"T_9b257_row1_col3\" class=\"data row1 col3\" >0.000</td>\n",
       "      <td id=\"T_9b257_row1_col4\" class=\"data row1 col4\" >0.000</td>\n",
       "    </tr>\n",
       "    <tr>\n",
       "      <th id=\"T_9b257_level0_row2\" class=\"row_heading level0 row2\" >pretrained_model</th>\n",
       "      <td id=\"T_9b257_row2_col0\" class=\"data row2 col0\" >0.000</td>\n",
       "      <td id=\"T_9b257_row2_col1\" class=\"data row2 col1\" >0.000</td>\n",
       "      <td id=\"T_9b257_row2_col2\" class=\"data row2 col2\" >0.000</td>\n",
       "      <td id=\"T_9b257_row2_col3\" class=\"data row2 col3\" >0.000</td>\n",
       "      <td id=\"T_9b257_row2_col4\" class=\"data row2 col4\" >0.000</td>\n",
       "    </tr>\n",
       "    <tr>\n",
       "      <th id=\"T_9b257_level0_row3\" class=\"row_heading level0 row3\" >evaluation</th>\n",
       "      <td id=\"T_9b257_row3_col0\" class=\"data row3 col0\" >0.000</td>\n",
       "      <td id=\"T_9b257_row3_col1\" class=\"data row3 col1\" >0.000</td>\n",
       "      <td id=\"T_9b257_row3_col2\" class=\"data row3 col2\" >0.000</td>\n",
       "      <td id=\"T_9b257_row3_col3\" class=\"data row3 col3\" >0.000</td>\n",
       "      <td id=\"T_9b257_row3_col4\" class=\"data row3 col4\" >0.000</td>\n",
       "    </tr>\n",
       "    <tr>\n",
       "      <th id=\"T_9b257_level0_row4\" class=\"row_heading level0 row4\" >training</th>\n",
       "      <td id=\"T_9b257_row4_col0\" class=\"data row4 col0\" >0.000</td>\n",
       "      <td id=\"T_9b257_row4_col1\" class=\"data row4 col1\" >0.000</td>\n",
       "      <td id=\"T_9b257_row4_col2\" class=\"data row4 col2\" >0.000</td>\n",
       "      <td id=\"T_9b257_row4_col3\" class=\"data row4 col3\" >0.000</td>\n",
       "      <td id=\"T_9b257_row4_col4\" class=\"data row4 col4\" >0.000</td>\n",
       "    </tr>\n",
       "    <tr>\n",
       "      <th id=\"T_9b257_level0_row5\" class=\"row_heading level0 row5\" >results</th>\n",
       "      <td id=\"T_9b257_row5_col0\" class=\"data row5 col0\" >0.000</td>\n",
       "      <td id=\"T_9b257_row5_col1\" class=\"data row5 col1\" >0.000</td>\n",
       "      <td id=\"T_9b257_row5_col2\" class=\"data row5 col2\" >0.000</td>\n",
       "      <td id=\"T_9b257_row5_col3\" class=\"data row5 col3\" >0.000</td>\n",
       "      <td id=\"T_9b257_row5_col4\" class=\"data row5 col4\" >0.000</td>\n",
       "    </tr>\n",
       "  </tbody>\n",
       "</table>\n"
      ],
      "text/plain": [
       "<pandas.io.formats.style.Styler at 0x2a602887fa0>"
      ]
     },
     "execution_count": 38,
     "metadata": {},
     "output_type": "execute_result"
    }
   ],
   "source": [
    "print(\"Agreement score means for each labelling method\".title())\n",
    "labelling_based_agreements = {}\n",
    "for labelling in human_labelled.iloc[:, 2:].select_dtypes(exclude=['float64']).columns.tolist():\n",
    "    means = {}\n",
    "    for label in human_labelled.human.unique():\n",
    "        formed_df = form_label_dataframes(\n",
    "            human_labelled.loc[human_labelled.human == label][[\"human\", labelling]])\n",
    "        mean = get_agreement(formed_df, selected_metric)\n",
    "        means[label] = mean\n",
    "    labelling_based_agreements[labelling] = means\n",
    "labelling_based_agreement_mean_all = pd.DataFrame(labelling_based_agreements)\n",
    "labelling_based_agreement_mean_all.style.highlight_max(\n",
    "    axis=1, color='green').format(\"{:.3f}\")\n"
   ]
  },
  {
   "cell_type": "code",
   "execution_count": 39,
   "metadata": {},
   "outputs": [],
   "source": [
    "similarity_scores.index = similarity_scores.index.str.replace(\"_score\", \"\")\n",
    "res = similarity_scores.join(kappa)\n",
    "res.index = res.index.str.replace(\n",
    "    \"_labelled\", \"\").str.replace(\"_\", \"+\").str.title()\n"
   ]
  },
  {
   "cell_type": "code",
   "execution_count": 40,
   "metadata": {},
   "outputs": [
    {
     "data": {
      "text/html": [
       "<div>\n",
       "<style scoped>\n",
       "    .dataframe tbody tr th:only-of-type {\n",
       "        vertical-align: middle;\n",
       "    }\n",
       "\n",
       "    .dataframe tbody tr th {\n",
       "        vertical-align: top;\n",
       "    }\n",
       "\n",
       "    .dataframe thead th {\n",
       "        text-align: right;\n",
       "    }\n",
       "</style>\n",
       "<table border=\"1\" class=\"dataframe\">\n",
       "  <thead>\n",
       "    <tr style=\"text-align: right;\">\n",
       "      <th></th>\n",
       "      <th>Classification Score(Avg.)</th>\n",
       "      <th>Agreement Score</th>\n",
       "    </tr>\n",
       "  </thead>\n",
       "  <tbody>\n",
       "    <tr>\n",
       "      <th>Header</th>\n",
       "      <td>0.638</td>\n",
       "      <td>0.314198</td>\n",
       "    </tr>\n",
       "    <tr>\n",
       "      <th>Header+Concat</th>\n",
       "      <td>0.653</td>\n",
       "      <td>0.331889</td>\n",
       "    </tr>\n",
       "    <tr>\n",
       "      <th>Content</th>\n",
       "      <td>0.661</td>\n",
       "      <td>0.236419</td>\n",
       "    </tr>\n",
       "    <tr>\n",
       "      <th>Header+Content</th>\n",
       "      <td>0.686</td>\n",
       "      <td>0.338260</td>\n",
       "    </tr>\n",
       "    <tr>\n",
       "      <th>Header+Concat+Content</th>\n",
       "      <td>0.700</td>\n",
       "      <td>0.340852</td>\n",
       "    </tr>\n",
       "    <tr>\n",
       "      <th>Grouped</th>\n",
       "      <td>0.678</td>\n",
       "      <td>NaN</td>\n",
       "    </tr>\n",
       "  </tbody>\n",
       "</table>\n",
       "</div>"
      ],
      "text/plain": [
       "                       Classification Score(Avg.)  Agreement Score\n",
       "Header                                      0.638         0.314198\n",
       "Header+Concat                               0.653         0.331889\n",
       "Content                                     0.661         0.236419\n",
       "Header+Content                              0.686         0.338260\n",
       "Header+Concat+Content                       0.700         0.340852\n",
       "Grouped                                     0.678              NaN"
      ]
     },
     "execution_count": 40,
     "metadata": {},
     "output_type": "execute_result"
    }
   ],
   "source": [
    "res.rename(columns={\"mean\": \"Classification Score(Avg.)\",\n",
    "           \"kappa\": \"Agreement Score\"}, inplace=True)\n",
    "res\n"
   ]
  }
 ],
 "metadata": {
  "kernelspec": {
   "display_name": ".venv",
   "language": "python",
   "name": "python3"
  },
  "language_info": {
   "codemirror_mode": {
    "name": "ipython",
    "version": 3
   },
   "file_extension": ".py",
   "mimetype": "text/x-python",
   "name": "python",
   "nbconvert_exporter": "python",
   "pygments_lexer": "ipython3",
   "version": "3.9.13"
  },
  "orig_nbformat": 4
 },
 "nbformat": 4,
 "nbformat_minor": 2
}
