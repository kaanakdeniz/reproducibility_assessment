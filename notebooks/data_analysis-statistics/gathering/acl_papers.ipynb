{
 "cells": [
  {
   "cell_type": "code",
   "execution_count": null,
   "metadata": {},
   "outputs": [],
   "source": [
    "import pandas as pd\n",
    "import matplotlib.pyplot as plt\n"
   ]
  },
  {
   "cell_type": "code",
   "execution_count": null,
   "metadata": {},
   "outputs": [],
   "source": [
    "df = pd.read_csv(\"data/acl/scraping/anthology_info.csv\")\n",
    "df_wr = pd.read_csv(\"data/acl/scraping/papers_with_code_readme.csv\")\n"
   ]
  },
  {
   "cell_type": "code",
   "execution_count": null,
   "metadata": {},
   "outputs": [],
   "source": [
    "df[\"venue\"].unique()\n"
   ]
  },
  {
   "cell_type": "code",
   "execution_count": null,
   "metadata": {},
   "outputs": [],
   "source": [
    "df[\"count\"].sum()\n"
   ]
  },
  {
   "cell_type": "code",
   "execution_count": null,
   "metadata": {},
   "outputs": [],
   "source": [
    "df[\"count_with_code\"].sum()\n"
   ]
  },
  {
   "cell_type": "code",
   "execution_count": null,
   "metadata": {},
   "outputs": [],
   "source": [
    "df[\"count_with_code\"].sum() / df[\"count\"].sum() * 100\n"
   ]
  },
  {
   "cell_type": "code",
   "execution_count": null,
   "metadata": {},
   "outputs": [],
   "source": [
    "df.groupby([\"venue\"])[[\"count_with_code\", \"count\"]].sum()\n"
   ]
  },
  {
   "cell_type": "code",
   "execution_count": null,
   "metadata": {},
   "outputs": [],
   "source": [
    "limit_years = list(range(2013, 2022))\n",
    "filtered_venues = [key for key, value in df.groupby([\"venue\"])[\"year\"].unique(\n",
    ").items() if all(elem in value for elem in limit_years)]\n",
    "df = df.loc[(df[\"venue\"].isin(filtered_venues))\n",
    "            & (df[\"year\"].isin(limit_years))]\n"
   ]
  },
  {
   "cell_type": "code",
   "execution_count": null,
   "metadata": {},
   "outputs": [],
   "source": [
    "coded_statistics = df.groupby([\"year\"])[[\"count\", \"count_with_code\"]].sum()\n",
    "coded_statistics[\"percentage\"] = coded_statistics[\"count_with_code\"] / \\\n",
    "    coded_statistics[\"count\"] * 100\n",
    "coded_statistics\n"
   ]
  },
  {
   "cell_type": "code",
   "execution_count": null,
   "metadata": {},
   "outputs": [],
   "source": [
    "\n",
    "count_by_years = df.groupby([\"year\"])[[\"count\", \"count_with_code\"]].sum()\n",
    "\n",
    "# create a new figure and axis\n",
    "fig, ax = plt.subplots(figsize=(7, 4))\n",
    "\n",
    "# plot each line with its own marker\n",
    "ax.plot(count_by_years.index,\n",
    "        count_by_years[\"count\"], marker='d', linewidth=1, label=\"Total\", linestyle=\"--\")\n",
    "ax.plot(count_by_years.index,\n",
    "        count_by_years[\"count_with_code\"], marker='X', linewidth=1, label=\"Coded\", linestyle=\"--\", color=\"darkgreen\")\n",
    "\n",
    "ax.legend(fontsize=9, frameon=True, edgecolor=\"gray\", loc=\"upper left\")\n",
    "# ax.set_title(\"Total and Coded Number of Articles by Year\",\n",
    "#              fontsize=12, fontweight=\"bold\")\n",
    "plt.xlabel(\"Year\", fontsize=10)\n",
    "plt.ylabel(\"Paper Count\", fontsize=10)\n",
    "# plt.xticks(fontsize=11, fontweight=\"bold\")\n",
    "# plt.yticks(fontsize=11, fontweight=\"bold\")\n",
    "plt.tight_layout()\n",
    "plt.savefig(\"figures/acl_papers.svg\", dpi=300, bbox_inches='tight')\n",
    "plt.show()\n"
   ]
  },
  {
   "cell_type": "code",
   "execution_count": null,
   "metadata": {},
   "outputs": [],
   "source": [
    "count_by_venue = df.groupby([\"venue\"])[[\"count_with_code\", \"count\"]].sum()\n",
    "count_by_venue.sort_values(by=[\"count_with_code\"], inplace=True)\n",
    "ax = count_by_venue.plot(kind=\"bar\", figsize=(10, 6), fontsize=13)\n",
    "ax.legend([\"Kodlu Makale\", \"Toplam Makale\"], fontsize=12,\n",
    "          frameon=True, edgecolor=\"gray\", loc=\"upper left\")\n",
    "ax.set_title(\"Konferanslara göre makale sayısı\",\n",
    "             fontsize=15, fontweight=\"bold\")\n",
    "plt.xlabel(\"Venue\", fontsize=13, fontweight=\"bold\")\n",
    "plt.ylabel(\"Yıl\", fontsize=13, fontweight=\"bold\")\n",
    "plt.xticks(rotation=45)\n",
    "plt.yscale(\"log\")\n",
    "plt.tight_layout()\n"
   ]
  },
  {
   "cell_type": "code",
   "execution_count": null,
   "metadata": {},
   "outputs": [],
   "source": [
    "ratio_by_years = df.groupby([\"year\"])[[\"venue\", \"count_with_code\"]].sum().divide(\n",
    "    count_by_years[\"count\"], axis=0).multiply(100).reset_index().sort_values(by=[\"count_with_code\"])\n",
    "ratio_by_years.rename(columns={\"count_with_code\": \"ratio\"}, inplace=True)\n",
    "ax = ratio_by_years.plot(kind=\"line\", x=\"year\", y=\"ratio\",\n",
    "                         marker=\"o\", figsize=(10, 6), fontsize=13, linewidth=3)\n",
    "ax.set_title(\"Ratio of Coded Articles To All Articles by Year\",\n",
    "             fontsize=15, fontweight=\"bold\")\n",
    "ax.set_ylabel(\"Ratio(%)\", fontsize=13, fontweight=\"bold\")\n",
    "ax.set_xlabel(\"Year\", fontsize=13, fontweight=\"bold\")\n",
    "ax.legend().remove()\n",
    "plt.tight_layout()\n"
   ]
  },
  {
   "cell_type": "code",
   "execution_count": null,
   "metadata": {},
   "outputs": [],
   "source": [
    "ratio_by_venue = df.groupby([\"venue\"])[[\"venue\", \"count_with_code\"]].sum().divide(\n",
    "    count_by_venue[\"count\"], axis=0).multiply(100).reset_index().sort_values(by=[\"count_with_code\"])\n",
    "ratio_by_venue.rename(columns={\"count_with_code\": \"ratio\"}, inplace=True)\n",
    "ax = ratio_by_venue.plot(kind=\"bar\", x=\"venue\",\n",
    "                         y=\"ratio\", figsize=(10, 6), fontsize=13)\n",
    "ax.set_title(\"Konferanslara göre kodlu makalelerin tümüne oranı\",\n",
    "             fontsize=15, fontweight=\"bold\")\n",
    "ax.set_ylabel(\"Oran(%)\", fontsize=13, fontweight=\"bold\")\n",
    "ax.set_xlabel(\"Venue\", fontsize=13, fontweight=\"bold\")\n",
    "ax.legend().remove()\n",
    "plt.xticks(rotation=45)\n",
    "plt.tight_layout()\n"
   ]
  }
 ],
 "metadata": {
  "kernelspec": {
   "display_name": "Python 3.9.1 ('env': venv)",
   "language": "python",
   "name": "python3"
  },
  "language_info": {
   "codemirror_mode": {
    "name": "ipython",
    "version": 3
   },
   "file_extension": ".py",
   "mimetype": "text/x-python",
   "name": "python",
   "nbconvert_exporter": "python",
   "pygments_lexer": "ipython3",
   "version": "3.9.13"
  },
  "orig_nbformat": 4,
  "vscode": {
   "interpreter": {
    "hash": "8f60512b77569a1fe8fa6afbbf890ccf92fee607013e721db6d6fd4d6de4a65f"
   }
  }
 },
 "nbformat": 4,
 "nbformat_minor": 2
}
