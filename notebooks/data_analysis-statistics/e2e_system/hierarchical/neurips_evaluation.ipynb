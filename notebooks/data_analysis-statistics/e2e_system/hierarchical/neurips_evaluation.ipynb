{
 "cells": [
  {
   "cell_type": "code",
   "execution_count": 54,
   "metadata": {},
   "outputs": [],
   "source": [
    "from sklearn.metrics import confusion_matrix, precision_recall_fscore_support, accuracy_score\n",
    "import pandas as pd\n",
    "from e2e_system.reproder import _ground_truth\n",
    "import os\n"
   ]
  },
  {
   "cell_type": "code",
   "execution_count": 55,
   "metadata": {},
   "outputs": [],
   "source": [
    "exp_main_dir = \"data/paperswithcode/evaluated/hierarchical\"\n",
    "exp_name = \"20230525-232040\"\n",
    "exp_dir = os.path.join(exp_main_dir, exp_name)\n"
   ]
  },
  {
   "cell_type": "code",
   "execution_count": 73,
   "metadata": {},
   "outputs": [],
   "source": [
    "eval_direct_classification = pd.read_csv(\n",
    "    os.path.join(exp_dir, 'eval_direct_classification.csv'))\n",
    "eval_weighted_score = pd.read_csv(\n",
    "    os.path.join(exp_dir, 'eval_weighted_score.csv'))\n",
    "eval_direct_coeff = pd.read_csv(\n",
    "    os.path.join(exp_dir, 'eval_direct_coeff.csv'))\n"
   ]
  },
  {
   "cell_type": "code",
   "execution_count": 74,
   "metadata": {},
   "outputs": [],
   "source": [
    "eval_direct_classification.score = eval_direct_classification.score.apply(\n",
    "    lambda x: (x*0.16) + 0.04)\n"
   ]
  },
  {
   "cell_type": "code",
   "execution_count": 68,
   "metadata": {},
   "outputs": [
    {
     "data": {
      "text/plain": [
       "0.027826654043232323"
      ]
     },
     "execution_count": 68,
     "metadata": {},
     "output_type": "execute_result"
    }
   ],
   "source": [
    "eval_direct_coeff.corr(numeric_only=True).reprod_score.score\n"
   ]
  },
  {
   "cell_type": "code",
   "execution_count": 77,
   "metadata": {},
   "outputs": [
    {
     "data": {
      "text/html": [
       "<div>\n",
       "<style scoped>\n",
       "    .dataframe tbody tr th:only-of-type {\n",
       "        vertical-align: middle;\n",
       "    }\n",
       "\n",
       "    .dataframe tbody tr th {\n",
       "        vertical-align: top;\n",
       "    }\n",
       "\n",
       "    .dataframe thead th {\n",
       "        text-align: right;\n",
       "    }\n",
       "</style>\n",
       "<table border=\"1\" class=\"dataframe\">\n",
       "  <thead>\n",
       "    <tr style=\"text-align: right;\">\n",
       "      <th></th>\n",
       "      <th>url</th>\n",
       "      <th>stars</th>\n",
       "      <th>introduction</th>\n",
       "      <th>requirements</th>\n",
       "      <th>pretrained_model</th>\n",
       "      <th>evaluation</th>\n",
       "      <th>training</th>\n",
       "      <th>results</th>\n",
       "      <th>score</th>\n",
       "      <th>reprod_score</th>\n",
       "    </tr>\n",
       "  </thead>\n",
       "  <tbody>\n",
       "    <tr>\n",
       "      <th>0</th>\n",
       "      <td>deepmind/lab</td>\n",
       "      <td>6082</td>\n",
       "      <td>True</td>\n",
       "      <td>True</td>\n",
       "      <td>False</td>\n",
       "      <td>True</td>\n",
       "      <td>True</td>\n",
       "      <td>False</td>\n",
       "      <td>0.68</td>\n",
       "      <td>0.36</td>\n",
       "    </tr>\n",
       "    <tr>\n",
       "      <th>1</th>\n",
       "      <td>zihangdai/xlnet</td>\n",
       "      <td>5114</td>\n",
       "      <td>True</td>\n",
       "      <td>False</td>\n",
       "      <td>True</td>\n",
       "      <td>True</td>\n",
       "      <td>True</td>\n",
       "      <td>True</td>\n",
       "      <td>0.84</td>\n",
       "      <td>0.20</td>\n",
       "    </tr>\n",
       "    <tr>\n",
       "      <th>2</th>\n",
       "      <td>tensorflow/tpu</td>\n",
       "      <td>3120</td>\n",
       "      <td>True</td>\n",
       "      <td>False</td>\n",
       "      <td>False</td>\n",
       "      <td>False</td>\n",
       "      <td>False</td>\n",
       "      <td>False</td>\n",
       "      <td>0.20</td>\n",
       "      <td>0.20</td>\n",
       "    </tr>\n",
       "    <tr>\n",
       "      <th>3</th>\n",
       "      <td>tensorflow/lingvo</td>\n",
       "      <td>1914</td>\n",
       "      <td>True</td>\n",
       "      <td>True</td>\n",
       "      <td>False</td>\n",
       "      <td>False</td>\n",
       "      <td>True</td>\n",
       "      <td>False</td>\n",
       "      <td>0.52</td>\n",
       "      <td>0.20</td>\n",
       "    </tr>\n",
       "    <tr>\n",
       "      <th>4</th>\n",
       "      <td>facebookresearch/XLM</td>\n",
       "      <td>1913</td>\n",
       "      <td>True</td>\n",
       "      <td>True</td>\n",
       "      <td>True</td>\n",
       "      <td>True</td>\n",
       "      <td>True</td>\n",
       "      <td>True</td>\n",
       "      <td>1.00</td>\n",
       "      <td>0.36</td>\n",
       "    </tr>\n",
       "    <tr>\n",
       "      <th>...</th>\n",
       "      <td>...</td>\n",
       "      <td>...</td>\n",
       "      <td>...</td>\n",
       "      <td>...</td>\n",
       "      <td>...</td>\n",
       "      <td>...</td>\n",
       "      <td>...</td>\n",
       "      <td>...</td>\n",
       "      <td>...</td>\n",
       "      <td>...</td>\n",
       "    </tr>\n",
       "    <tr>\n",
       "      <th>95</th>\n",
       "      <td>fkunstner/limitations-empirical-fisher</td>\n",
       "      <td>26</td>\n",
       "      <td>True</td>\n",
       "      <td>True</td>\n",
       "      <td>False</td>\n",
       "      <td>True</td>\n",
       "      <td>False</td>\n",
       "      <td>False</td>\n",
       "      <td>0.52</td>\n",
       "      <td>0.20</td>\n",
       "    </tr>\n",
       "    <tr>\n",
       "      <th>96</th>\n",
       "      <td>max-andr/provably-robust-boosting</td>\n",
       "      <td>26</td>\n",
       "      <td>True</td>\n",
       "      <td>True</td>\n",
       "      <td>False</td>\n",
       "      <td>True</td>\n",
       "      <td>True</td>\n",
       "      <td>False</td>\n",
       "      <td>0.68</td>\n",
       "      <td>0.20</td>\n",
       "    </tr>\n",
       "    <tr>\n",
       "      <th>97</th>\n",
       "      <td>PwnerHarry/Stronger_GCN</td>\n",
       "      <td>26</td>\n",
       "      <td>True</td>\n",
       "      <td>True</td>\n",
       "      <td>False</td>\n",
       "      <td>False</td>\n",
       "      <td>True</td>\n",
       "      <td>True</td>\n",
       "      <td>0.68</td>\n",
       "      <td>0.20</td>\n",
       "    </tr>\n",
       "    <tr>\n",
       "      <th>98</th>\n",
       "      <td>PKU-AI-Edge/FEN</td>\n",
       "      <td>23</td>\n",
       "      <td>True</td>\n",
       "      <td>False</td>\n",
       "      <td>False</td>\n",
       "      <td>False</td>\n",
       "      <td>False</td>\n",
       "      <td>False</td>\n",
       "      <td>0.20</td>\n",
       "      <td>0.20</td>\n",
       "    </tr>\n",
       "    <tr>\n",
       "      <th>99</th>\n",
       "      <td>vveitch/causal-network-embeddings</td>\n",
       "      <td>22</td>\n",
       "      <td>True</td>\n",
       "      <td>True</td>\n",
       "      <td>False</td>\n",
       "      <td>True</td>\n",
       "      <td>False</td>\n",
       "      <td>False</td>\n",
       "      <td>0.52</td>\n",
       "      <td>0.20</td>\n",
       "    </tr>\n",
       "  </tbody>\n",
       "</table>\n",
       "<p>100 rows × 10 columns</p>\n",
       "</div>"
      ],
      "text/plain": [
       "                                       url  stars  introduction  requirements  \\\n",
       "0                             deepmind/lab   6082          True          True   \n",
       "1                          zihangdai/xlnet   5114          True         False   \n",
       "2                           tensorflow/tpu   3120          True         False   \n",
       "3                        tensorflow/lingvo   1914          True          True   \n",
       "4                     facebookresearch/XLM   1913          True          True   \n",
       "..                                     ...    ...           ...           ...   \n",
       "95  fkunstner/limitations-empirical-fisher     26          True          True   \n",
       "96       max-andr/provably-robust-boosting     26          True          True   \n",
       "97                 PwnerHarry/Stronger_GCN     26          True          True   \n",
       "98                         PKU-AI-Edge/FEN     23          True         False   \n",
       "99       vveitch/causal-network-embeddings     22          True          True   \n",
       "\n",
       "    pretrained_model  evaluation  training  results  score  reprod_score  \n",
       "0              False        True      True    False   0.68          0.36  \n",
       "1               True        True      True     True   0.84          0.20  \n",
       "2              False       False     False    False   0.20          0.20  \n",
       "3              False       False      True    False   0.52          0.20  \n",
       "4               True        True      True     True   1.00          0.36  \n",
       "..               ...         ...       ...      ...    ...           ...  \n",
       "95             False        True     False    False   0.52          0.20  \n",
       "96             False        True      True    False   0.68          0.20  \n",
       "97             False       False      True     True   0.68          0.20  \n",
       "98             False       False     False    False   0.20          0.20  \n",
       "99             False        True     False    False   0.52          0.20  \n",
       "\n",
       "[100 rows x 10 columns]"
      ]
     },
     "execution_count": 77,
     "metadata": {},
     "output_type": "execute_result"
    }
   ],
   "source": [
    "eval_direct_classification"
   ]
  },
  {
   "cell_type": "code",
   "execution_count": 76,
   "metadata": {},
   "outputs": [
    {
     "data": {
      "text/plain": [
       "0.02805766419108578"
      ]
     },
     "execution_count": 76,
     "metadata": {},
     "output_type": "execute_result"
    }
   ],
   "source": [
    "eval_direct_classification.corr(numeric_only=True).reprod_score.score\n"
   ]
  },
  {
   "cell_type": "code",
   "execution_count": 60,
   "metadata": {},
   "outputs": [
    {
     "data": {
      "text/plain": [
       "0.24337357414285368"
      ]
     },
     "execution_count": 60,
     "metadata": {},
     "output_type": "execute_result"
    }
   ],
   "source": [
    "eval_weighted_score.corr(numeric_only=True).reprod_score.score\n"
   ]
  },
  {
   "cell_type": "code",
   "execution_count": 61,
   "metadata": {},
   "outputs": [
    {
     "name": "stdout",
     "output_type": "stream",
     "text": [
      "Accuracy of direct classification: 0.0\n"
     ]
    }
   ],
   "source": [
    "accuracy = eval_direct_classification[eval_direct_classification.score ==\n",
    "                                      eval_direct_classification.reprod_score].shape[0] / eval_direct_classification.shape[0]\n",
    "print(\n",
    "    f\"Accuracy of direct classification: {round(accuracy, 3)}\")\n"
   ]
  },
  {
   "cell_type": "code",
   "execution_count": 62,
   "metadata": {},
   "outputs": [],
   "source": [
    "def analyze_reprod_score(df, type):\n",
    "    df = df[[\"score\", \"reprod_score\"]].describe()\n",
    "    df[\"diff\"] = df[\"reprod_score\"] - df[\"score\"]\n",
    "    df = df.T.round(3)\n",
    "    df.set_index([[type, type, type], [\n",
    "        \"true\", \"pred\", \"diff\"]], inplace=True)\n",
    "    return df\n"
   ]
  },
  {
   "cell_type": "code",
   "execution_count": 63,
   "metadata": {},
   "outputs": [],
   "source": [
    "type_1_df = analyze_reprod_score(eval_direct_classification, \"type 1\")\n",
    "type_2_df = analyze_reprod_score(eval_weighted_score, \"type 2\")\n",
    "type_3_df = analyze_reprod_score(eval_direct_coeff, \"type 3\")\n"
   ]
  },
  {
   "cell_type": "code",
   "execution_count": 66,
   "metadata": {},
   "outputs": [],
   "source": [
    "reprod_score_analysis = pd.concat(\n",
    "    [type_1_df,type_2_df ,type_3_df])\n",
    "reprod_score_analysis.drop(columns=[\"count\"], inplace=True)\n"
   ]
  },
  {
   "cell_type": "code",
   "execution_count": 67,
   "metadata": {},
   "outputs": [
    {
     "data": {
      "text/html": [
       "<style type=\"text/css\">\n",
       "#T_04ac8_row2_col1, #T_04ac8_row5_col0, #T_04ac8_row5_col2, #T_04ac8_row5_col3, #T_04ac8_row5_col4, #T_04ac8_row5_col5, #T_04ac8_row5_col6 {\n",
       "  background-color: green;\n",
       "}\n",
       "</style>\n",
       "<table id=\"T_04ac8\">\n",
       "  <thead>\n",
       "    <tr>\n",
       "      <th class=\"blank\" >&nbsp;</th>\n",
       "      <th class=\"blank level0\" >&nbsp;</th>\n",
       "      <th id=\"T_04ac8_level0_col0\" class=\"col_heading level0 col0\" >mean</th>\n",
       "      <th id=\"T_04ac8_level0_col1\" class=\"col_heading level0 col1\" >std</th>\n",
       "      <th id=\"T_04ac8_level0_col2\" class=\"col_heading level0 col2\" >min</th>\n",
       "      <th id=\"T_04ac8_level0_col3\" class=\"col_heading level0 col3\" >25%</th>\n",
       "      <th id=\"T_04ac8_level0_col4\" class=\"col_heading level0 col4\" >50%</th>\n",
       "      <th id=\"T_04ac8_level0_col5\" class=\"col_heading level0 col5\" >75%</th>\n",
       "      <th id=\"T_04ac8_level0_col6\" class=\"col_heading level0 col6\" >max</th>\n",
       "    </tr>\n",
       "  </thead>\n",
       "  <tbody>\n",
       "    <tr>\n",
       "      <th id=\"T_04ac8_level0_row0\" class=\"row_heading level0 row0\" rowspan=\"3\">type 1</th>\n",
       "      <th id=\"T_04ac8_level1_row0\" class=\"row_heading level1 row0\" >true</th>\n",
       "      <td id=\"T_04ac8_row0_col0\" class=\"data row0 col0\" >3.900</td>\n",
       "      <td id=\"T_04ac8_row0_col1\" class=\"data row0 col1\" >1.259</td>\n",
       "      <td id=\"T_04ac8_row0_col2\" class=\"data row0 col2\" >1.000</td>\n",
       "      <td id=\"T_04ac8_row0_col3\" class=\"data row0 col3\" >3.000</td>\n",
       "      <td id=\"T_04ac8_row0_col4\" class=\"data row0 col4\" >4.000</td>\n",
       "      <td id=\"T_04ac8_row0_col5\" class=\"data row0 col5\" >5.000</td>\n",
       "      <td id=\"T_04ac8_row0_col6\" class=\"data row0 col6\" >6.000</td>\n",
       "    </tr>\n",
       "    <tr>\n",
       "      <th id=\"T_04ac8_level1_row1\" class=\"row_heading level1 row1\" >pred</th>\n",
       "      <td id=\"T_04ac8_row1_col0\" class=\"data row1 col0\" >0.218</td>\n",
       "      <td id=\"T_04ac8_row1_col1\" class=\"data row1 col1\" >0.050</td>\n",
       "      <td id=\"T_04ac8_row1_col2\" class=\"data row1 col2\" >0.200</td>\n",
       "      <td id=\"T_04ac8_row1_col3\" class=\"data row1 col3\" >0.200</td>\n",
       "      <td id=\"T_04ac8_row1_col4\" class=\"data row1 col4\" >0.200</td>\n",
       "      <td id=\"T_04ac8_row1_col5\" class=\"data row1 col5\" >0.200</td>\n",
       "      <td id=\"T_04ac8_row1_col6\" class=\"data row1 col6\" >0.360</td>\n",
       "    </tr>\n",
       "    <tr>\n",
       "      <th id=\"T_04ac8_level1_row2\" class=\"row_heading level1 row2\" >diff</th>\n",
       "      <td id=\"T_04ac8_row2_col0\" class=\"data row2 col0\" >-3.682</td>\n",
       "      <td id=\"T_04ac8_row2_col1\" class=\"data row2 col1\" >-1.209</td>\n",
       "      <td id=\"T_04ac8_row2_col2\" class=\"data row2 col2\" >-0.800</td>\n",
       "      <td id=\"T_04ac8_row2_col3\" class=\"data row2 col3\" >-2.800</td>\n",
       "      <td id=\"T_04ac8_row2_col4\" class=\"data row2 col4\" >-3.800</td>\n",
       "      <td id=\"T_04ac8_row2_col5\" class=\"data row2 col5\" >-4.800</td>\n",
       "      <td id=\"T_04ac8_row2_col6\" class=\"data row2 col6\" >-5.640</td>\n",
       "    </tr>\n",
       "    <tr>\n",
       "      <th id=\"T_04ac8_level0_row3\" class=\"row_heading level0 row3\" rowspan=\"3\">type 2</th>\n",
       "      <th id=\"T_04ac8_level1_row3\" class=\"row_heading level1 row3\" >true</th>\n",
       "      <td id=\"T_04ac8_row3_col0\" class=\"data row3 col0\" >3.900</td>\n",
       "      <td id=\"T_04ac8_row3_col1\" class=\"data row3 col1\" >1.259</td>\n",
       "      <td id=\"T_04ac8_row3_col2\" class=\"data row3 col2\" >1.000</td>\n",
       "      <td id=\"T_04ac8_row3_col3\" class=\"data row3 col3\" >3.000</td>\n",
       "      <td id=\"T_04ac8_row3_col4\" class=\"data row3 col4\" >4.000</td>\n",
       "      <td id=\"T_04ac8_row3_col5\" class=\"data row3 col5\" >5.000</td>\n",
       "      <td id=\"T_04ac8_row3_col6\" class=\"data row3 col6\" >6.000</td>\n",
       "    </tr>\n",
       "    <tr>\n",
       "      <th id=\"T_04ac8_level1_row4\" class=\"row_heading level1 row4\" >pred</th>\n",
       "      <td id=\"T_04ac8_row4_col0\" class=\"data row4 col0\" >2.306</td>\n",
       "      <td id=\"T_04ac8_row4_col1\" class=\"data row4 col1\" >0.037</td>\n",
       "      <td id=\"T_04ac8_row4_col2\" class=\"data row4 col2\" >2.202</td>\n",
       "      <td id=\"T_04ac8_row4_col3\" class=\"data row4 col3\" >2.282</td>\n",
       "      <td id=\"T_04ac8_row4_col4\" class=\"data row4 col4\" >2.311</td>\n",
       "      <td id=\"T_04ac8_row4_col5\" class=\"data row4 col5\" >2.327</td>\n",
       "      <td id=\"T_04ac8_row4_col6\" class=\"data row4 col6\" >2.373</td>\n",
       "    </tr>\n",
       "    <tr>\n",
       "      <th id=\"T_04ac8_level1_row5\" class=\"row_heading level1 row5\" >diff</th>\n",
       "      <td id=\"T_04ac8_row5_col0\" class=\"data row5 col0\" >-1.594</td>\n",
       "      <td id=\"T_04ac8_row5_col1\" class=\"data row5 col1\" >-1.223</td>\n",
       "      <td id=\"T_04ac8_row5_col2\" class=\"data row5 col2\" >1.202</td>\n",
       "      <td id=\"T_04ac8_row5_col3\" class=\"data row5 col3\" >-0.718</td>\n",
       "      <td id=\"T_04ac8_row5_col4\" class=\"data row5 col4\" >-1.689</td>\n",
       "      <td id=\"T_04ac8_row5_col5\" class=\"data row5 col5\" >-2.673</td>\n",
       "      <td id=\"T_04ac8_row5_col6\" class=\"data row5 col6\" >-3.627</td>\n",
       "    </tr>\n",
       "    <tr>\n",
       "      <th id=\"T_04ac8_level0_row6\" class=\"row_heading level0 row6\" rowspan=\"3\">type 3</th>\n",
       "      <th id=\"T_04ac8_level1_row6\" class=\"row_heading level1 row6\" >true</th>\n",
       "      <td id=\"T_04ac8_row6_col0\" class=\"data row6 col0\" >3.900</td>\n",
       "      <td id=\"T_04ac8_row6_col1\" class=\"data row6 col1\" >1.259</td>\n",
       "      <td id=\"T_04ac8_row6_col2\" class=\"data row6 col2\" >1.000</td>\n",
       "      <td id=\"T_04ac8_row6_col3\" class=\"data row6 col3\" >3.000</td>\n",
       "      <td id=\"T_04ac8_row6_col4\" class=\"data row6 col4\" >4.000</td>\n",
       "      <td id=\"T_04ac8_row6_col5\" class=\"data row6 col5\" >5.000</td>\n",
       "      <td id=\"T_04ac8_row6_col6\" class=\"data row6 col6\" >6.000</td>\n",
       "    </tr>\n",
       "    <tr>\n",
       "      <th id=\"T_04ac8_level1_row7\" class=\"row_heading level1 row7\" >pred</th>\n",
       "      <td id=\"T_04ac8_row7_col0\" class=\"data row7 col0\" >0.059</td>\n",
       "      <td id=\"T_04ac8_row7_col1\" class=\"data row7 col1\" >0.014</td>\n",
       "      <td id=\"T_04ac8_row7_col2\" class=\"data row7 col2\" >0.052</td>\n",
       "      <td id=\"T_04ac8_row7_col3\" class=\"data row7 col3\" >0.053</td>\n",
       "      <td id=\"T_04ac8_row7_col4\" class=\"data row7 col4\" >0.054</td>\n",
       "      <td id=\"T_04ac8_row7_col5\" class=\"data row7 col5\" >0.055</td>\n",
       "      <td id=\"T_04ac8_row7_col6\" class=\"data row7 col6\" >0.104</td>\n",
       "    </tr>\n",
       "    <tr>\n",
       "      <th id=\"T_04ac8_level1_row8\" class=\"row_heading level1 row8\" >diff</th>\n",
       "      <td id=\"T_04ac8_row8_col0\" class=\"data row8 col0\" >-3.841</td>\n",
       "      <td id=\"T_04ac8_row8_col1\" class=\"data row8 col1\" >-1.245</td>\n",
       "      <td id=\"T_04ac8_row8_col2\" class=\"data row8 col2\" >-0.948</td>\n",
       "      <td id=\"T_04ac8_row8_col3\" class=\"data row8 col3\" >-2.947</td>\n",
       "      <td id=\"T_04ac8_row8_col4\" class=\"data row8 col4\" >-3.946</td>\n",
       "      <td id=\"T_04ac8_row8_col5\" class=\"data row8 col5\" >-4.945</td>\n",
       "      <td id=\"T_04ac8_row8_col6\" class=\"data row8 col6\" >-5.896</td>\n",
       "    </tr>\n",
       "  </tbody>\n",
       "</table>\n"
      ],
      "text/plain": [
       "<pandas.io.formats.style.Styler at 0x17785057310>"
      ]
     },
     "execution_count": 67,
     "metadata": {},
     "output_type": "execute_result"
    }
   ],
   "source": [
    "reprod_score_analysis.style.highlight_max(subset=pd.IndexSlice[reprod_score_analysis.index.isin([\n",
    "                                          \"diff\"], level=1), :], color=\"green\", axis=0).format(\"{:.3f}\")\n"
   ]
  }
 ],
 "metadata": {
  "kernelspec": {
   "display_name": ".venv",
   "language": "python",
   "name": "python3"
  },
  "language_info": {
   "codemirror_mode": {
    "name": "ipython",
    "version": 3
   },
   "file_extension": ".py",
   "mimetype": "text/x-python",
   "name": "python",
   "nbconvert_exporter": "python",
   "pygments_lexer": "ipython3",
   "version": "3.9.13"
  },
  "orig_nbformat": 4
 },
 "nbformat": 4,
 "nbformat_minor": 2
}
