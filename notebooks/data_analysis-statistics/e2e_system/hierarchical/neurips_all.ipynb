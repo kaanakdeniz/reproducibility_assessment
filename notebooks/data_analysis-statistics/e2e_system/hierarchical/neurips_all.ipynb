{
 "cells": [
  {
   "cell_type": "code",
   "execution_count": 55,
   "metadata": {},
   "outputs": [],
   "source": [
    "import glob\n",
    "import pandas as pd\n",
    "from e2e_system.reproder import _ground_truth\n",
    "from sklearn.metrics import cohen_kappa_score\n",
    "from sklearn.metrics import precision_recall_fscore_support, accuracy_score\n",
    "from util.file_helper import read_all_csv_files\n"
   ]
  },
  {
   "cell_type": "code",
   "execution_count": 56,
   "metadata": {},
   "outputs": [],
   "source": [
    "def get_correlation(df, round_step=3):\n",
    "    crr = df.score.corr(other=df.reprod_score)\n",
    "    return round(crr, round_step)\n",
    "\n",
    "\n",
    "def get_kappa(df):\n",
    "    return round(cohen_kappa_score(df.score, df.reprod_score, weights=\"quadratic\"), 3)\n"
   ]
  },
  {
   "cell_type": "code",
   "execution_count": 57,
   "metadata": {},
   "outputs": [],
   "source": [
    "evaluations = glob.glob(\n",
    "    \"data/paperswithcode/evaluated/hierarchical/**auto**\")\n"
   ]
  },
  {
   "cell_type": "code",
   "execution_count": 64,
   "metadata": {},
   "outputs": [
    {
     "data": {
      "text/plain": [
       "['data/paperswithcode/evaluated/hierarchical\\\\autolabelled']"
      ]
     },
     "execution_count": 64,
     "metadata": {},
     "output_type": "execute_result"
    }
   ],
   "source": [
    "evaluations\n"
   ]
  },
  {
   "cell_type": "code",
   "execution_count": 70,
   "metadata": {},
   "outputs": [],
   "source": [
    "def get_evaluation_metric_results(true, pred):\n",
    "    accuracy = accuracy_score(true, pred)\n",
    "    return round(accuracy, 3)\n"
   ]
  },
  {
   "cell_type": "code",
   "execution_count": 71,
   "metadata": {},
   "outputs": [],
   "source": [
    "res = []\n",
    "for evaluation in evaluations:\n",
    "    results = read_all_csv_files(f\"{evaluation}/\")\n",
    "    for key in results.keys():\n",
    "        correlation = get_correlation(results[key])\n",
    "        kappa = get_kappa(\n",
    "            results[key]) if key == \"direct_classification\" else 0\n",
    "        evaluation = evaluation.split(\"\\\\\")[-1]\n",
    "        res.append(\n",
    "            {\n",
    "                \"correlation\": correlation,\n",
    "                \"kappa\": kappa,\n",
    "                \"accuracy\":  get_evaluation_metric_results(results[key].score, results[key].reprod_score) if key == \"direct_classification\" else 0,\n",
    "                \"evaluation\": evaluation,\n",
    "                \"type\": key.replace(\"neurips_\", \"\")\n",
    "            }\n",
    "        )\n"
   ]
  },
  {
   "cell_type": "code",
   "execution_count": 72,
   "metadata": {},
   "outputs": [],
   "source": [
    "analysis = pd.DataFrame(res)\n",
    "analysis[\"data_filter\"] = analysis.evaluation.apply(\n",
    "    lambda x: \"filtered\" if x.endswith(\"_limited\") else \"non-filtered\")\n"
   ]
  },
  {
   "cell_type": "code",
   "execution_count": 73,
   "metadata": {},
   "outputs": [
    {
     "data": {
      "text/html": [
       "<style type=\"text/css\">\n",
       "#T_52e7e_row0_col1, #T_52e7e_row0_col2, #T_52e7e_row2_col0 {\n",
       "  background-color: green;\n",
       "}\n",
       "</style>\n",
       "<table id=\"T_52e7e\">\n",
       "  <thead>\n",
       "    <tr>\n",
       "      <th class=\"blank\" >&nbsp;</th>\n",
       "      <th class=\"blank level0\" >&nbsp;</th>\n",
       "      <th id=\"T_52e7e_level0_col0\" class=\"col_heading level0 col0\" >correlation</th>\n",
       "      <th id=\"T_52e7e_level0_col1\" class=\"col_heading level0 col1\" >kappa</th>\n",
       "      <th id=\"T_52e7e_level0_col2\" class=\"col_heading level0 col2\" >accuracy</th>\n",
       "    </tr>\n",
       "    <tr>\n",
       "      <th class=\"index_name level0\" >evaluation</th>\n",
       "      <th class=\"index_name level1\" >type</th>\n",
       "      <th class=\"blank col0\" >&nbsp;</th>\n",
       "      <th class=\"blank col1\" >&nbsp;</th>\n",
       "      <th class=\"blank col2\" >&nbsp;</th>\n",
       "    </tr>\n",
       "  </thead>\n",
       "  <tbody>\n",
       "    <tr>\n",
       "      <th id=\"T_52e7e_level0_row0\" class=\"row_heading level0 row0\" rowspan=\"3\">autolabelled</th>\n",
       "      <th id=\"T_52e7e_level1_row0\" class=\"row_heading level1 row0\" >direct_classification</th>\n",
       "      <td id=\"T_52e7e_row0_col0\" class=\"data row0 col0\" >0.495</td>\n",
       "      <td id=\"T_52e7e_row0_col1\" class=\"data row0 col1\" >0.404</td>\n",
       "      <td id=\"T_52e7e_row0_col2\" class=\"data row0 col2\" >0.300</td>\n",
       "    </tr>\n",
       "    <tr>\n",
       "      <th id=\"T_52e7e_level1_row1\" class=\"row_heading level1 row1\" >direct_coeff</th>\n",
       "      <td id=\"T_52e7e_row1_col0\" class=\"data row1 col0\" >0.331</td>\n",
       "      <td id=\"T_52e7e_row1_col1\" class=\"data row1 col1\" >0.000</td>\n",
       "      <td id=\"T_52e7e_row1_col2\" class=\"data row1 col2\" >0.000</td>\n",
       "    </tr>\n",
       "    <tr>\n",
       "      <th id=\"T_52e7e_level1_row2\" class=\"row_heading level1 row2\" >weighted_score</th>\n",
       "      <td id=\"T_52e7e_row2_col0\" class=\"data row2 col0\" >0.534</td>\n",
       "      <td id=\"T_52e7e_row2_col1\" class=\"data row2 col1\" >0.000</td>\n",
       "      <td id=\"T_52e7e_row2_col2\" class=\"data row2 col2\" >0.000</td>\n",
       "    </tr>\n",
       "  </tbody>\n",
       "</table>\n"
      ],
      "text/plain": [
       "<pandas.io.formats.style.Styler at 0x1dea799be80>"
      ]
     },
     "execution_count": 73,
     "metadata": {},
     "output_type": "execute_result"
    }
   ],
   "source": [
    "pd.DataFrame(res).set_index([\"evaluation\", \"type\"]).round(3).style.highlight_max(\n",
    "    color=\"green\", axis=0).format(\"{:.3f}\")\n"
   ]
  },
  {
   "cell_type": "code",
   "execution_count": 62,
   "metadata": {},
   "outputs": [
    {
     "data": {
      "text/html": [
       "<style type=\"text/css\">\n",
       "#T_19e1f_row0_col0, #T_19e1f_row1_col1 {\n",
       "  background-color: green;\n",
       "}\n",
       "</style>\n",
       "<table id=\"T_19e1f\">\n",
       "  <thead>\n",
       "    <tr>\n",
       "      <th class=\"blank\" >&nbsp;</th>\n",
       "      <th class=\"blank level0\" >&nbsp;</th>\n",
       "      <th id=\"T_19e1f_level0_col0\" class=\"col_heading level0 col0\" >correlation</th>\n",
       "      <th id=\"T_19e1f_level0_col1\" class=\"col_heading level0 col1\" >kappa</th>\n",
       "    </tr>\n",
       "    <tr>\n",
       "      <th class=\"index_name level0\" >evaluation</th>\n",
       "      <th class=\"index_name level1\" >type</th>\n",
       "      <th class=\"blank col0\" >&nbsp;</th>\n",
       "      <th class=\"blank col1\" >&nbsp;</th>\n",
       "    </tr>\n",
       "  </thead>\n",
       "  <tbody>\n",
       "    <tr>\n",
       "      <th id=\"T_19e1f_level0_row0\" class=\"row_heading level0 row0\" rowspan=\"3\">autolabelled</th>\n",
       "      <th id=\"T_19e1f_level1_row0\" class=\"row_heading level1 row0\" >weighted_score</th>\n",
       "      <td id=\"T_19e1f_row0_col0\" class=\"data row0 col0\" >0.534</td>\n",
       "      <td id=\"T_19e1f_row0_col1\" class=\"data row0 col1\" >0.000</td>\n",
       "    </tr>\n",
       "    <tr>\n",
       "      <th id=\"T_19e1f_level1_row1\" class=\"row_heading level1 row1\" >direct_classification</th>\n",
       "      <td id=\"T_19e1f_row1_col0\" class=\"data row1 col0\" >0.495</td>\n",
       "      <td id=\"T_19e1f_row1_col1\" class=\"data row1 col1\" >0.404</td>\n",
       "    </tr>\n",
       "    <tr>\n",
       "      <th id=\"T_19e1f_level1_row2\" class=\"row_heading level1 row2\" >direct_coeff</th>\n",
       "      <td id=\"T_19e1f_row2_col0\" class=\"data row2 col0\" >0.331</td>\n",
       "      <td id=\"T_19e1f_row2_col1\" class=\"data row2 col1\" >0.000</td>\n",
       "    </tr>\n",
       "  </tbody>\n",
       "</table>\n"
      ],
      "text/plain": [
       "<pandas.io.formats.style.Styler at 0x1dea651b3a0>"
      ]
     },
     "execution_count": 62,
     "metadata": {},
     "output_type": "execute_result"
    }
   ],
   "source": [
    "pd.DataFrame(res).set_index([\"evaluation\", \"type\"]).round(3).sort_values(by=\"correlation\", ascending=False).style.highlight_max(\n",
    "    color=\"green\", axis=0).format(\"{:.3f}\")\n"
   ]
  },
  {
   "cell_type": "code",
   "execution_count": 63,
   "metadata": {},
   "outputs": [
    {
     "data": {
      "text/html": [
       "<div>\n",
       "<style scoped>\n",
       "    .dataframe tbody tr th:only-of-type {\n",
       "        vertical-align: middle;\n",
       "    }\n",
       "\n",
       "    .dataframe tbody tr th {\n",
       "        vertical-align: top;\n",
       "    }\n",
       "\n",
       "    .dataframe thead th {\n",
       "        text-align: right;\n",
       "    }\n",
       "</style>\n",
       "<table border=\"1\" class=\"dataframe\">\n",
       "  <thead>\n",
       "    <tr style=\"text-align: right;\">\n",
       "      <th></th>\n",
       "      <th>correlation</th>\n",
       "      <th>kappa</th>\n",
       "    </tr>\n",
       "    <tr>\n",
       "      <th>data_filter</th>\n",
       "      <th></th>\n",
       "      <th></th>\n",
       "    </tr>\n",
       "  </thead>\n",
       "  <tbody>\n",
       "    <tr>\n",
       "      <th>non-filtered</th>\n",
       "      <td>0.453</td>\n",
       "      <td>0.135</td>\n",
       "    </tr>\n",
       "  </tbody>\n",
       "</table>\n",
       "</div>"
      ],
      "text/plain": [
       "              correlation  kappa\n",
       "data_filter                     \n",
       "non-filtered        0.453  0.135"
      ]
     },
     "execution_count": 63,
     "metadata": {},
     "output_type": "execute_result"
    }
   ],
   "source": [
    "analysis.groupby(\"data_filter\").mean(numeric_only=True).round(3)\n"
   ]
  }
 ],
 "metadata": {
  "kernelspec": {
   "display_name": ".venv",
   "language": "python",
   "name": "python3"
  },
  "language_info": {
   "codemirror_mode": {
    "name": "ipython",
    "version": 3
   },
   "file_extension": ".py",
   "mimetype": "text/x-python",
   "name": "python",
   "nbconvert_exporter": "python",
   "pygments_lexer": "ipython3",
   "version": "3.9.13"
  },
  "orig_nbformat": 4
 },
 "nbformat": 4,
 "nbformat_minor": 2
}
