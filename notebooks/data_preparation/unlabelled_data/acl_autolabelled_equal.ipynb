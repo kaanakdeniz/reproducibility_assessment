{
 "cells": [
  {
   "cell_type": "code",
   "execution_count": 12,
   "metadata": {},
   "outputs": [],
   "source": [
    "import pandas as pd\n",
    "from sklearn.preprocessing import  minmax_scale"
   ]
  },
  {
   "cell_type": "code",
   "execution_count": 57,
   "metadata": {},
   "outputs": [],
   "source": [
    "df = pd.read_csv(\"data/acl/sections/labelled/text_sim_ground_truth/header.csv\")\n",
    "df['parent_header'] = df['parent_header'].fillna(\"\")\n",
    "df[\"text\"] = df[[\"parent_header\", \"header\", \"content\"]].agg(\"\\n\".join, axis=1)\n",
    "df[\"text\"] = df[\"text\"].str.removeprefix(\"\\n\")\n",
    "df[\"scaled_score\"] = minmax_scale(df[\"score\"], feature_range=(0, 1))"
   ]
  },
  {
   "cell_type": "code",
   "execution_count": 58,
   "metadata": {},
   "outputs": [],
   "source": [
    "new_df = df[[\"text\", \"label\"]].reset_index(drop=True)\n",
    "new_df[\"text\"] = new_df[\"text\"].str.removeprefix(\". \")"
   ]
  },
  {
   "cell_type": "code",
   "execution_count": 59,
   "metadata": {},
   "outputs": [],
   "source": [
    "jsx = df[[\"text\", \"label\"]].copy()\n",
    "jsx = df[[\"text\", \"label\", \"scaled_score\"]].rename(\n",
    "    columns={'scaled_score': \"score\"}).round(4)\n",
    "jsx[\"auto_label\"] = jsx[\"label\"]\n"
   ]
  },
  {
   "cell_type": "code",
   "execution_count": 61,
   "metadata": {},
   "outputs": [],
   "source": [
    "jsx.groupby('label').apply(lambda x: x.sample(175, random_state=42)).reset_index(drop=True).sample(\n",
    "    frac=1, random_state=42).to_json(\"data/acl/sections/manuel_labelling/textsim_auto_equal-sampled.json\", orient=\"records\")\n"
   ]
  }
 ],
 "metadata": {
  "kernelspec": {
   "display_name": ".venv",
   "language": "python",
   "name": "python3"
  },
  "language_info": {
   "codemirror_mode": {
    "name": "ipython",
    "version": 3
   },
   "file_extension": ".py",
   "mimetype": "text/x-python",
   "name": "python",
   "nbconvert_exporter": "python",
   "pygments_lexer": "ipython3",
   "version": "3.9.13"
  },
  "orig_nbformat": 4
 },
 "nbformat": 4,
 "nbformat_minor": 2
}
