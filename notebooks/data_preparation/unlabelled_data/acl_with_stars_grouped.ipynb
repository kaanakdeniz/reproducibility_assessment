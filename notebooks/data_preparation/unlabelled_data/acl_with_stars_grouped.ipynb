{
 "cells": [
  {
   "cell_type": "code",
   "execution_count": 1,
   "metadata": {},
   "outputs": [],
   "source": [
    "import pandas as pd\n",
    "from util.readme_parser import ReadmeSectionParser\n",
    "import regex\n",
    "import string\n"
   ]
  },
  {
   "cell_type": "code",
   "execution_count": 2,
   "metadata": {},
   "outputs": [],
   "source": [
    "# FIXME: Sections cleande contenti boş olan sectionlar siliniyor, ancak bu durumda gruplamada sorun oluşuyor, dikkat et.\n",
    "repos = pd.read_csv(\"data/acl/scraping/papers_with_code_readme.csv\")\n",
    "sections = pd.read_csv(\"data/acl/sections/sections_clean.csv\", index_col=0)\n"
   ]
  },
  {
   "cell_type": "code",
   "execution_count": 3,
   "metadata": {},
   "outputs": [
    {
     "data": {
      "text/plain": [
       "((9300, 8), (35463, 5))"
      ]
     },
     "execution_count": 3,
     "metadata": {},
     "output_type": "execute_result"
    }
   ],
   "source": [
    "repos.shape, sections.shape\n"
   ]
  },
  {
   "cell_type": "code",
   "execution_count": 4,
   "metadata": {},
   "outputs": [
    {
     "data": {
      "text/plain": [
       "(7500, 8)"
      ]
     },
     "execution_count": 4,
     "metadata": {},
     "output_type": "execute_result"
    }
   ],
   "source": [
    "repos.drop_duplicates(subset=\"code\", inplace=True)\n",
    "repos.shape\n"
   ]
  },
  {
   "cell_type": "code",
   "execution_count": 5,
   "metadata": {},
   "outputs": [],
   "source": [
    "repos.sort_values(by=\"stars\", ascending=False, inplace=True)\n"
   ]
  },
  {
   "cell_type": "code",
   "execution_count": 6,
   "metadata": {},
   "outputs": [],
   "source": [
    "grouped_sections = []\n",
    "\n",
    "for idx, repo in repos.iterrows():\n",
    "    repo_sections = sections[sections[\"repo\"] == repo.repo_dir]\n",
    "    grouped = ReadmeSectionParser.group_by_parent_header(repo_sections)\n",
    "    grouped_sections += grouped\n",
    "    if len(grouped_sections) > 1000:\n",
    "        break\n",
    "\n",
    "grouped_sections = pd.DataFrame(grouped_sections)\n"
   ]
  },
  {
   "cell_type": "code",
   "execution_count": 7,
   "metadata": {},
   "outputs": [
    {
     "data": {
      "text/plain": [
       "(212, 8)"
      ]
     },
     "execution_count": 7,
     "metadata": {},
     "output_type": "execute_result"
    }
   ],
   "source": [
    "selected_repos = repos[repos.repo_dir.isin(grouped_sections.repo.unique())]\n",
    "selected_repos.shape\n"
   ]
  },
  {
   "cell_type": "code",
   "execution_count": 8,
   "metadata": {},
   "outputs": [
    {
     "data": {
      "text/plain": [
       "(1004, 4)"
      ]
     },
     "execution_count": 8,
     "metadata": {},
     "output_type": "execute_result"
    }
   ],
   "source": [
    "grouped_sections = grouped_sections.assign(stars=grouped_sections[\"repo\"].map(\n",
    "    selected_repos.set_index(\"repo_dir\")[\"stars\"]).astype(int))\n",
    "grouped_sections.shape\n"
   ]
  },
  {
   "cell_type": "code",
   "execution_count": 9,
   "metadata": {},
   "outputs": [],
   "source": [
    "grouped_sections.rename(columns={\"content\": \"text\"}, inplace=True)\n",
    "grouped_sections = grouped_sections.assign(label=\"\")\n"
   ]
  },
  {
   "cell_type": "code",
   "execution_count": 10,
   "metadata": {},
   "outputs": [],
   "source": [
    "# Remove chinese or other non-ascii characters\n",
    "grouped_sections.text = grouped_sections.text.apply(\n",
    "    lambda x: x.encode(\"ascii\", errors=\"ignore\").decode())\n"
   ]
  },
  {
   "cell_type": "code",
   "execution_count": 12,
   "metadata": {},
   "outputs": [],
   "source": [
    "grouped_sections[[\"repo\", \"header\", \"text\", \"label\", \"stars\"]].to_json(\n",
    "    \"data/acl/sections/manuel_labelling/grouped_1000_orderby-stars.json\", orient=\"records\")\n"
   ]
  }
 ],
 "metadata": {
  "kernelspec": {
   "display_name": ".venv",
   "language": "python",
   "name": "python3"
  },
  "language_info": {
   "codemirror_mode": {
    "name": "ipython",
    "version": 3
   },
   "file_extension": ".py",
   "mimetype": "text/x-python",
   "name": "python",
   "nbconvert_exporter": "python",
   "pygments_lexer": "ipython3",
   "version": "3.9.13"
  },
  "orig_nbformat": 4
 },
 "nbformat": 4,
 "nbformat_minor": 2
}
