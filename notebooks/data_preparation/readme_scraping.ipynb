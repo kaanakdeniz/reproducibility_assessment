{
 "cells": [
  {
   "cell_type": "code",
   "execution_count": 1,
   "metadata": {},
   "outputs": [],
   "source": [
    "import os\n",
    "from util.readme_parser import ReadmeSectionParser\n",
    "import pandas as pd\n",
    "from tqdm import tqdm"
   ]
  },
  {
   "cell_type": "code",
   "execution_count": 2,
   "metadata": {},
   "outputs": [],
   "source": [
    "html_dir = 'data/acl/readme/html'\n",
    "repo_file_map = pd.read_csv('data/acl/readme/repo_file_map.csv')"
   ]
  },
  {
   "cell_type": "code",
   "execution_count": 3,
   "metadata": {},
   "outputs": [
    {
     "name": "stderr",
     "output_type": "stream",
     "text": [
      "100%|██████████| 7139/7139 [01:13<00:00, 96.83it/s] \n"
     ]
    }
   ],
   "source": [
    "all_sections = []\n",
    "for repo, file in tqdm(repo_file_map.values):\n",
    "    readme_path = os.path.join(html_dir, f\"{file}.html\")\n",
    "    readme = open(readme_path, 'r', encoding=\"utf-8\", errors=\"ignore\").read()\n",
    "    readme_parser = ReadmeSectionParser(repo, readme)\n",
    "    sections = readme_parser.parse_sections(with_mask=True)\n",
    "    all_sections += sections\n",
    "\n",
    "pd.DataFrame(all_sections).to_csv('data/acl/sections/sections.csv', index=False)\n"
   ]
  },
  {
   "cell_type": "code",
   "execution_count": 4,
   "metadata": {},
   "outputs": [
    {
     "name": "stderr",
     "output_type": "stream",
     "text": [
      "100%|██████████| 7139/7139 [00:27<00:00, 260.81it/s]\n"
     ]
    }
   ],
   "source": [
    "all_sections_unmasked = []\n",
    "for repo, file in tqdm(repo_file_map.values):\n",
    "    readme_path = os.path.join(html_dir, f\"{file}.html\")\n",
    "    readme = open(readme_path, 'r', encoding=\"utf-8\", errors=\"ignore\").read()\n",
    "    readme_parser = ReadmeSectionParser(repo, readme)\n",
    "    sections = readme_parser.parse_sections(with_mask=False)\n",
    "    all_sections_unmasked += sections\n",
    "\n",
    "pd.DataFrame(all_sections_unmasked).to_csv(\n",
    "    'data/acl/sections/sections_unmasked.csv', index=False)\n"
   ]
  },
  {
   "cell_type": "code",
   "execution_count": 5,
   "metadata": {},
   "outputs": [
    {
     "name": "stderr",
     "output_type": "stream",
     "text": [
      "100%|██████████| 7139/7139 [01:36<00:00, 73.86it/s] \n"
     ]
    }
   ],
   "source": [
    "all_sections_grouped = []\n",
    "for repo, file in tqdm(repo_file_map.values):\n",
    "    readme_path = os.path.join(html_dir, f\"{file}.html\")\n",
    "    readme = open(readme_path, 'r', encoding=\"utf-8\", errors=\"ignore\").read()\n",
    "    readme_parser = ReadmeSectionParser(repo, readme)\n",
    "    sections = readme_parser.parse_sections(with_mask=True, group_by_parent=True)\n",
    "    all_sections_grouped += sections\n",
    "\n",
    "pd.DataFrame(all_sections_grouped).to_csv(\n",
    "    'data/acl/sections/sections_grouped.csv', index=False)\n"
   ]
  },
  {
   "cell_type": "code",
   "execution_count": 6,
   "metadata": {},
   "outputs": [
    {
     "name": "stderr",
     "output_type": "stream",
     "text": [
      "100%|██████████| 7139/7139 [01:30<00:00, 78.70it/s] \n"
     ]
    }
   ],
   "source": [
    "all_sections_grouped_unmasked = []\n",
    "for repo, file in tqdm(repo_file_map.values):\n",
    "    readme_path = os.path.join(html_dir, f\"{file}.html\")\n",
    "    readme = open(readme_path, 'r', encoding=\"utf-8\", errors=\"ignore\").read()\n",
    "    readme_parser = ReadmeSectionParser(repo, readme)\n",
    "    sections = readme_parser.parse_sections(with_mask=False, group_by_parent=True)\n",
    "    all_sections_grouped_unmasked += sections\n",
    "\n",
    "pd.DataFrame(all_sections_grouped_unmasked).to_csv(\n",
    "    'data/acl/sections/sections_grouped_unmasked.csv', index=False)\n",
    "\n"
   ]
  }
 ],
 "metadata": {
  "kernelspec": {
   "display_name": ".venv",
   "language": "python",
   "name": "python3"
  },
  "language_info": {
   "codemirror_mode": {
    "name": "ipython",
    "version": 3
   },
   "file_extension": ".py",
   "mimetype": "text/x-python",
   "name": "python",
   "nbconvert_exporter": "python",
   "pygments_lexer": "ipython3",
   "version": "3.9.13"
  },
  "orig_nbformat": 4
 },
 "nbformat": 4,
 "nbformat_minor": 2
}
