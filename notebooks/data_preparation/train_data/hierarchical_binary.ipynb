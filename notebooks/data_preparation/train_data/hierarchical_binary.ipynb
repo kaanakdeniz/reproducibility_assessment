{
 "cells": [
  {
   "cell_type": "code",
   "execution_count": 1,
   "metadata": {},
   "outputs": [],
   "source": [
    "import pandas as pd\n",
    "import cmarkgfm\n",
    "from util.github_helper import get_readme\n",
    "from util.readme_parser import ReadmeSectionParser\n",
    "from util.string_helper import clear_text"
   ]
  },
  {
   "cell_type": "code",
   "execution_count": 2,
   "metadata": {},
   "outputs": [],
   "source": [
    "neurips = pd.read_csv(\"data/paperswithcode/neurips_checklist_manuel-100.csv\")\n",
    "neurips.rename(columns={\"url\": \"repo\"}, inplace=True)\n",
    "manuel = pd.read_json(\n",
    "    \"data/acl/sections/labelled/manuel/sections_grouped_orderby-stars/processed/intersection.json\")\n"
   ]
  },
  {
   "cell_type": "code",
   "execution_count": 3,
   "metadata": {},
   "outputs": [],
   "source": [
    "not_reprod_score = [0]\n",
    "reprod_score = [5,6]"
   ]
  },
  {
   "cell_type": "code",
   "execution_count": 4,
   "metadata": {},
   "outputs": [],
   "source": [
    "neurips[\"score\"] = neurips.select_dtypes(include=['bool']).sum(axis=1)\n",
    "neurips_not_reprod = neurips[neurips.score.isin(not_reprod_score)]\n",
    "neurips_reprod = neurips[neurips.score.isin(reprod_score)]\n"
   ]
  },
  {
   "cell_type": "code",
   "execution_count": 5,
   "metadata": {},
   "outputs": [],
   "source": [
    "manuel[\"score\"] = manuel.intersection.apply(lambda x: len(x))\n",
    "manuel_not_reprod = manuel[manuel.score.isin(not_reprod_score)]\n",
    "manuel_reprod = manuel[manuel.score.isin(reprod_score)]\n"
   ]
  },
  {
   "cell_type": "code",
   "execution_count": 6,
   "metadata": {},
   "outputs": [],
   "source": [
    "not_reprod = pd.concat([neurips_not_reprod, manuel_not_reprod])\n",
    "reprod = pd.concat([neurips_reprod, manuel_reprod])\n"
   ]
  },
  {
   "cell_type": "code",
   "execution_count": 7,
   "metadata": {},
   "outputs": [
    {
     "data": {
      "text/plain": [
       "((58, 10), (34, 10))"
      ]
     },
     "execution_count": 7,
     "metadata": {},
     "output_type": "execute_result"
    }
   ],
   "source": [
    "not_reprod.shape, reprod.shape\n"
   ]
  },
  {
   "cell_type": "code",
   "execution_count": 8,
   "metadata": {},
   "outputs": [
    {
     "data": {
      "text/html": [
       "<div>\n",
       "<style scoped>\n",
       "    .dataframe tbody tr th:only-of-type {\n",
       "        vertical-align: middle;\n",
       "    }\n",
       "\n",
       "    .dataframe tbody tr th {\n",
       "        vertical-align: top;\n",
       "    }\n",
       "\n",
       "    .dataframe thead th {\n",
       "        text-align: right;\n",
       "    }\n",
       "</style>\n",
       "<table border=\"1\" class=\"dataframe\">\n",
       "  <thead>\n",
       "    <tr style=\"text-align: right;\">\n",
       "      <th></th>\n",
       "      <th>repo</th>\n",
       "      <th>score</th>\n",
       "      <th>label</th>\n",
       "    </tr>\n",
       "  </thead>\n",
       "  <tbody>\n",
       "    <tr>\n",
       "      <th>30</th>\n",
       "      <td>VinAIResearch/BERTweet</td>\n",
       "      <td>0</td>\n",
       "      <td>0</td>\n",
       "    </tr>\n",
       "    <tr>\n",
       "      <th>22</th>\n",
       "      <td>Philip-Bachman/amdim-public</td>\n",
       "      <td>5</td>\n",
       "      <td>1</td>\n",
       "    </tr>\n",
       "    <tr>\n",
       "      <th>57</th>\n",
       "      <td>baidu/Senta</td>\n",
       "      <td>0</td>\n",
       "      <td>0</td>\n",
       "    </tr>\n",
       "    <tr>\n",
       "      <th>45</th>\n",
       "      <td>allenai/natural-instructions</td>\n",
       "      <td>0</td>\n",
       "      <td>0</td>\n",
       "    </tr>\n",
       "    <tr>\n",
       "      <th>91</th>\n",
       "      <td>brjathu/RPSnet</td>\n",
       "      <td>6</td>\n",
       "      <td>1</td>\n",
       "    </tr>\n",
       "    <tr>\n",
       "      <th>62</th>\n",
       "      <td>brmson/dataset-sts</td>\n",
       "      <td>0</td>\n",
       "      <td>0</td>\n",
       "    </tr>\n",
       "    <tr>\n",
       "      <th>134</th>\n",
       "      <td>jiesutd/YEDDA</td>\n",
       "      <td>0</td>\n",
       "      <td>0</td>\n",
       "    </tr>\n",
       "    <tr>\n",
       "      <th>47</th>\n",
       "      <td>allenai/scibert</td>\n",
       "      <td>0</td>\n",
       "      <td>0</td>\n",
       "    </tr>\n",
       "    <tr>\n",
       "      <th>4</th>\n",
       "      <td>facebookresearch/XLM</td>\n",
       "      <td>6</td>\n",
       "      <td>1</td>\n",
       "    </tr>\n",
       "    <tr>\n",
       "      <th>142</th>\n",
       "      <td>maszhongming/MatchSum</td>\n",
       "      <td>5</td>\n",
       "      <td>1</td>\n",
       "    </tr>\n",
       "  </tbody>\n",
       "</table>\n",
       "</div>"
      ],
      "text/plain": [
       "                             repo  score  label\n",
       "30         VinAIResearch/BERTweet      0      0\n",
       "22    Philip-Bachman/amdim-public      5      1\n",
       "57                    baidu/Senta      0      0\n",
       "45   allenai/natural-instructions      0      0\n",
       "91                 brjathu/RPSnet      6      1\n",
       "62             brmson/dataset-sts      0      0\n",
       "134                 jiesutd/YEDDA      0      0\n",
       "47                allenai/scibert      0      0\n",
       "4            facebookresearch/XLM      6      1\n",
       "142         maszhongming/MatchSum      5      1"
      ]
     },
     "execution_count": 8,
     "metadata": {},
     "output_type": "execute_result"
    }
   ],
   "source": [
    "data = pd.concat([not_reprod, reprod])[[\"repo\", \"score\"]]\n",
    "data.loc[data.score.isin(not_reprod_score), \"label\"] = 0\n",
    "data.loc[data.score.isin(reprod_score), \"label\"] = 1\n",
    "data.label = data.label.astype(int)\n",
    "data.sample(n=10)\n"
   ]
  },
  {
   "cell_type": "code",
   "execution_count": 9,
   "metadata": {},
   "outputs": [
    {
     "name": "stderr",
     "output_type": "stream",
     "text": [
      "100%|██████████| 92/92 [00:38<00:00,  2.41it/s, Processing maszhongming/MatchSum]                                          \n"
     ]
    }
   ],
   "source": [
    "import tqdm\n",
    "\n",
    "\n",
    "for repo in (padm := tqdm.tqdm(data.repo.values)):\n",
    "    padm.set_postfix_str(f\"Processing {repo}\")\n",
    "    readme_content, url = get_readme(repo)\n",
    "    html = cmarkgfm.github_flavored_markdown_to_html(readme_content)\n",
    "    readme_parser = ReadmeSectionParser(repo, html)\n",
    "    sections = readme_parser.parse_sections(\n",
    "        with_mask=True, group_by_parent=True)\n",
    "    content = ReadmeSectionParser.merge_sections(pd.DataFrame(\n",
    "        sections), keys=[\"header\", \"content\"], with_newline=True)\n",
    "    data.loc[data.repo == repo, \"content\"] = content\n"
   ]
  },
  {
   "cell_type": "code",
   "execution_count": 12,
   "metadata": {},
   "outputs": [],
   "source": [
    "data.rename(columns={\"content\": \"text\"}, inplace=True)\n"
   ]
  },
  {
   "cell_type": "code",
   "execution_count": 13,
   "metadata": {},
   "outputs": [],
   "source": [
    "data.text = data.text.apply(clear_text)"
   ]
  },
  {
   "cell_type": "code",
   "execution_count": null,
   "metadata": {},
   "outputs": [],
   "source": [
    "data[\"text_length\"] = data.text.apply(lambda x: len(x.split(\" \")))"
   ]
  },
  {
   "cell_type": "code",
   "execution_count": 14,
   "metadata": {},
   "outputs": [],
   "source": [
    "data[[\"text\", \"label\"]].to_csv(\n",
    "    \"data/mixed/hierarchical_binary.csv\", index=False)\n"
   ]
  }
 ],
 "metadata": {
  "kernelspec": {
   "display_name": ".venv",
   "language": "python",
   "name": "python3"
  },
  "language_info": {
   "codemirror_mode": {
    "name": "ipython",
    "version": 3
   },
   "file_extension": ".py",
   "mimetype": "text/x-python",
   "name": "python",
   "nbconvert_exporter": "python",
   "pygments_lexer": "ipython3",
   "version": "3.9.13"
  },
  "orig_nbformat": 4
 },
 "nbformat": 4,
 "nbformat_minor": 2
}
