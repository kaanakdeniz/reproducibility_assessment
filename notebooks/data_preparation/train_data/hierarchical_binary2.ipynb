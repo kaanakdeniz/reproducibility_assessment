{
 "cells": [
  {
   "cell_type": "code",
   "execution_count": 1,
   "metadata": {},
   "outputs": [],
   "source": [
    "import pandas as pd\n",
    "from e2e_system.reproder import _ground_truth\n",
    "import numpy as np\n"
   ]
  },
  {
   "cell_type": "code",
   "execution_count": 3,
   "metadata": {},
   "outputs": [],
   "source": [
    "df = pd.read_csv(\"data/acl/sections/labelled/zeroshot/header_plus_content.csv\", index_col=0)\n"
   ]
  },
  {
   "cell_type": "code",
   "execution_count": 4,
   "metadata": {},
   "outputs": [],
   "source": [
    "label_df = df.groupby(\"repo\").agg(\n",
    "    {\"label\": lambda x: list(set(list(x)))}).reset_index()\n",
    "label_df[\"score\"] = label_df[\"label\"].apply(lambda x: 0 if len(x) <= 3 else 1)\n"
   ]
  },
  {
   "cell_type": "code",
   "execution_count": 5,
   "metadata": {},
   "outputs": [
    {
     "data": {
      "text/html": [
       "<div>\n",
       "<style scoped>\n",
       "    .dataframe tbody tr th:only-of-type {\n",
       "        vertical-align: middle;\n",
       "    }\n",
       "\n",
       "    .dataframe tbody tr th {\n",
       "        vertical-align: top;\n",
       "    }\n",
       "\n",
       "    .dataframe thead th {\n",
       "        text-align: right;\n",
       "    }\n",
       "</style>\n",
       "<table border=\"1\" class=\"dataframe\">\n",
       "  <thead>\n",
       "    <tr style=\"text-align: right;\">\n",
       "      <th></th>\n",
       "      <th>repo</th>\n",
       "      <th>label</th>\n",
       "      <th>score</th>\n",
       "    </tr>\n",
       "  </thead>\n",
       "  <tbody>\n",
       "    <tr>\n",
       "      <th>0</th>\n",
       "      <td>0xhesch/clat-cross-lingual-annotation-transfer</td>\n",
       "      <td>[introduction]</td>\n",
       "      <td>0</td>\n",
       "    </tr>\n",
       "    <tr>\n",
       "      <th>1</th>\n",
       "      <td>0xnurl/signaling-auto-encoder</td>\n",
       "      <td>[requirements, results]</td>\n",
       "      <td>0</td>\n",
       "    </tr>\n",
       "    <tr>\n",
       "      <th>2</th>\n",
       "      <td>11zhouxuan/multi_grained_kd_ner</td>\n",
       "      <td>[results]</td>\n",
       "      <td>0</td>\n",
       "    </tr>\n",
       "    <tr>\n",
       "      <th>3</th>\n",
       "      <td>12kleingordon34/NLP_masters_project</td>\n",
       "      <td>[evaluation, training]</td>\n",
       "      <td>0</td>\n",
       "    </tr>\n",
       "    <tr>\n",
       "      <th>4</th>\n",
       "      <td>131250208/infextraction</td>\n",
       "      <td>[evaluation, training, requirements, results]</td>\n",
       "      <td>1</td>\n",
       "    </tr>\n",
       "    <tr>\n",
       "      <th>...</th>\n",
       "      <td>...</td>\n",
       "      <td>...</td>\n",
       "      <td>...</td>\n",
       "    </tr>\n",
       "    <tr>\n",
       "      <th>6707</th>\n",
       "      <td>zzcoolj/corpus2graph</td>\n",
       "      <td>[requirements]</td>\n",
       "      <td>0</td>\n",
       "    </tr>\n",
       "    <tr>\n",
       "      <th>6708</th>\n",
       "      <td>zzsfornlp/nnpgdparser</td>\n",
       "      <td>[evaluation, introduction, training, results]</td>\n",
       "      <td>1</td>\n",
       "    </tr>\n",
       "    <tr>\n",
       "      <th>6709</th>\n",
       "      <td>zzsfornlp/znmt-merge</td>\n",
       "      <td>[introduction, training, requirements, results]</td>\n",
       "      <td>1</td>\n",
       "    </tr>\n",
       "    <tr>\n",
       "      <th>6710</th>\n",
       "      <td>zzshou/RCAM</td>\n",
       "      <td>[pretrained_model, introduction]</td>\n",
       "      <td>0</td>\n",
       "    </tr>\n",
       "    <tr>\n",
       "      <th>6711</th>\n",
       "      <td>zzshou/amr-data-augmentation</td>\n",
       "      <td>[pretrained_model, introduction, evaluation, r...</td>\n",
       "      <td>1</td>\n",
       "    </tr>\n",
       "  </tbody>\n",
       "</table>\n",
       "<p>6712 rows × 3 columns</p>\n",
       "</div>"
      ],
      "text/plain": [
       "                                                repo  \\\n",
       "0     0xhesch/clat-cross-lingual-annotation-transfer   \n",
       "1                      0xnurl/signaling-auto-encoder   \n",
       "2                    11zhouxuan/multi_grained_kd_ner   \n",
       "3                12kleingordon34/NLP_masters_project   \n",
       "4                            131250208/infextraction   \n",
       "...                                              ...   \n",
       "6707                            zzcoolj/corpus2graph   \n",
       "6708                           zzsfornlp/nnpgdparser   \n",
       "6709                            zzsfornlp/znmt-merge   \n",
       "6710                                     zzshou/RCAM   \n",
       "6711                    zzshou/amr-data-augmentation   \n",
       "\n",
       "                                                  label  score  \n",
       "0                                        [introduction]      0  \n",
       "1                               [requirements, results]      0  \n",
       "2                                             [results]      0  \n",
       "3                                [evaluation, training]      0  \n",
       "4         [evaluation, training, requirements, results]      1  \n",
       "...                                                 ...    ...  \n",
       "6707                                     [requirements]      0  \n",
       "6708      [evaluation, introduction, training, results]      1  \n",
       "6709    [introduction, training, requirements, results]      1  \n",
       "6710                   [pretrained_model, introduction]      0  \n",
       "6711  [pretrained_model, introduction, evaluation, r...      1  \n",
       "\n",
       "[6712 rows x 3 columns]"
      ]
     },
     "execution_count": 5,
     "metadata": {},
     "output_type": "execute_result"
    }
   ],
   "source": [
    "label_df\n"
   ]
  },
  {
   "cell_type": "code",
   "execution_count": 6,
   "metadata": {},
   "outputs": [
    {
     "data": {
      "application/vnd.jupyter.widget-view+json": {
       "model_id": "8bcbee5a4d534e14aa152842879f3117",
       "version_major": 2,
       "version_minor": 0
      },
      "text/plain": [
       "0it [00:00, ?it/s]"
      ]
     },
     "metadata": {},
     "output_type": "display_data"
    }
   ],
   "source": [
    "from tqdm.auto import tqdm\n",
    "from util.file_helper import get_readme_with_repo_name\n",
    "from util.readme_parser import ReadmeSectionParser\n",
    "\n",
    "for idx, row in tqdm(label_df.iterrows()):\n",
    "    readme = get_readme_with_repo_name(\"acl\", row.repo)\n",
    "    if readme is None:\n",
    "        continue\n",
    "    sections = ReadmeSectionParser(\"row.repo\", readme).parse_sections()\n",
    "    readme = ReadmeSectionParser.merge_sections(pd.DataFrame(sections))\n",
    "    label_df.loc[idx, \"readme\"] = readme\n"
   ]
  },
  {
   "cell_type": "code",
   "execution_count": 7,
   "metadata": {},
   "outputs": [],
   "source": [
    "label_df.dropna(inplace=True)\n",
    "label_df.rename(columns={\"readme\": \"text\", \"score\": \"label\"}, inplace=True)\n",
    "label_df.to_csv(\n",
    "    \"data/acl/sections/labelled/zeroshot/hierarchical_binary_train.csv\", index=False)\n"
   ]
  }
 ],
 "metadata": {
  "kernelspec": {
   "display_name": ".venv",
   "language": "python",
   "name": "python3"
  },
  "language_info": {
   "codemirror_mode": {
    "name": "ipython",
    "version": 3
   },
   "file_extension": ".py",
   "mimetype": "text/x-python",
   "name": "python",
   "nbconvert_exporter": "python",
   "pygments_lexer": "ipython3",
   "version": "3.9.13"
  },
  "orig_nbformat": 4
 },
 "nbformat": 4,
 "nbformat_minor": 2
}
