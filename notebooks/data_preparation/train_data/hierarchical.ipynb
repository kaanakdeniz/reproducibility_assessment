{
 "cells": [
  {
   "cell_type": "code",
   "execution_count": 1,
   "metadata": {},
   "outputs": [],
   "source": [
    "import pandas as pd\n",
    "from e2e_system.reproder import _ground_truth\n",
    "import numpy as np\n"
   ]
  },
  {
   "cell_type": "code",
   "execution_count": 2,
   "metadata": {},
   "outputs": [],
   "source": [
    "intersection_df = pd.read_json(\n",
    "    \"data/acl/sections/labelled/manuel/sections_grouped_orderby-stars/processed/intersection.json\")\n",
    "min_intersection_df = pd.read_json(\n",
    "    \"data/acl/sections/labelled/manuel/sections_grouped_orderby-stars/processed/min_intersection.json\")\n",
    "union_df = pd.read_json(\n",
    "    \"data/acl/sections/labelled/manuel/sections_grouped_orderby-stars/processed/union.json\")\n"
   ]
  },
  {
   "cell_type": "code",
   "execution_count": 3,
   "metadata": {},
   "outputs": [],
   "source": [
    "def process(df, label_column_name):\n",
    "    label_df = df.copy()\n",
    "    for label in _ground_truth:\n",
    "        label_df[label] = False\n",
    "\n",
    "    for idx, row in label_df.iterrows():\n",
    "        labels = row[label_column_name]\n",
    "        for label in labels:\n",
    "            label_df.loc[idx, label] = True\n",
    "\n",
    "    label_df[\"score\"] = label_df[list(_ground_truth)].sum(axis=1)\n",
    "    label_df.sort_values(\"score\", ascending=False, inplace=True)\n",
    "    return label_df\n"
   ]
  },
  {
   "cell_type": "code",
   "execution_count": 4,
   "metadata": {},
   "outputs": [],
   "source": [
    "intersection_df_processed = process(intersection_df, \"intersection\")\n",
    "min_intersection_df_processed = process(\n",
    "    min_intersection_df, \"min_intersection\")\n",
    "union_df_processed = process(union_df, \"union\")\n"
   ]
  },
  {
   "cell_type": "code",
   "execution_count": 5,
   "metadata": {},
   "outputs": [],
   "source": [
    "repositories = union_df.repo.unique()\n"
   ]
  },
  {
   "cell_type": "code",
   "execution_count": 6,
   "metadata": {},
   "outputs": [],
   "source": [
    "sections = pd.read_csv(\"data/acl/sections/sections_grouped.csv\")\n"
   ]
  },
  {
   "cell_type": "code",
   "execution_count": 7,
   "metadata": {},
   "outputs": [],
   "source": [
    "from util.readme_parser import ReadmeSectionParser\n",
    "\n",
    "\n",
    "def process(df):\n",
    "    data = []\n",
    "    for idx, row in df.iterrows():\n",
    "        row_sections = sections[sections.repo == row.repo]\n",
    "        all_content = ReadmeSectionParser.merge_sections(\n",
    "            pd.DataFrame(row_sections), keys=[\"header\", \"content\"], with_newline=True)\n",
    "        data.append([row.repo, all_content, row.score])\n",
    "\n",
    "    train_data = pd.DataFrame(data, columns=[\"repo\", \"content\", \"score\"])\n",
    "    train_data = train_data[['content', 'score']].rename(\n",
    "        columns={'content': 'text', 'score': 'label'})\n",
    "    return train_data\n"
   ]
  },
  {
   "cell_type": "code",
   "execution_count": 8,
   "metadata": {},
   "outputs": [],
   "source": [
    "intersection_df_train = process(intersection_df_processed)\n",
    "min_intersection_df_train = process(min_intersection_df_processed)\n",
    "union_df_train = process(union_df_processed)\n"
   ]
  },
  {
   "cell_type": "code",
   "execution_count": 9,
   "metadata": {},
   "outputs": [
    {
     "data": {
      "text/plain": [
       "count      207.000000\n",
       "mean      1152.053140\n",
       "std       1389.043934\n",
       "min         23.000000\n",
       "25%        401.000000\n",
       "50%        856.000000\n",
       "75%       1254.500000\n",
       "max      11425.000000\n",
       "Name: content_length, dtype: float64"
      ]
     },
     "execution_count": 9,
     "metadata": {},
     "output_type": "execute_result"
    }
   ],
   "source": [
    "union_df_train[\"content_length\"] = union_df_train[\"text\"].apply(\n",
    "    lambda x: len(x.split(\" \")))\n",
    "intersection_df_train[\"content_length\"] = intersection_df_train[\"text\"].apply(\n",
    "    lambda x: len(x.split(\" \")))\n",
    "min_intersection_df_train[\"content_length\"] = min_intersection_df_train[\"text\"].apply(\n",
    "    lambda x: len(x.split(\" \")))\n",
    "union_df_train.content_length.describe()\n"
   ]
  },
  {
   "cell_type": "code",
   "execution_count": 10,
   "metadata": {},
   "outputs": [],
   "source": [
    "min_intersection_df_train = min_intersection_df_train[\n",
    "    min_intersection_df_train.content_length <= 4096]\n",
    "intersection_df_train = intersection_df_train[\n",
    "    intersection_df_train.content_length <= 4096]\n",
    "union_df_train = union_df_train[union_df_train.content_length <= 4096]\n"
   ]
  },
  {
   "cell_type": "code",
   "execution_count": 11,
   "metadata": {},
   "outputs": [
    {
     "data": {
      "text/plain": [
       "count     200.00000\n",
       "mean      948.66000\n",
       "std       737.69451\n",
       "min        23.00000\n",
       "25%       394.50000\n",
       "50%       806.00000\n",
       "75%      1224.50000\n",
       "max      3704.00000\n",
       "Name: content_length, dtype: float64"
      ]
     },
     "execution_count": 11,
     "metadata": {},
     "output_type": "execute_result"
    }
   ],
   "source": [
    "union_df_train.content_length.describe()\n"
   ]
  },
  {
   "cell_type": "code",
   "execution_count": 12,
   "metadata": {},
   "outputs": [],
   "source": [
    "intersection_df_train.to_csv(\n",
    "    \"data/acl/sections/labelled/manuel/sections_grouped_orderby-stars/processed/intersection_train.csv\", index=False)\n",
    "min_intersection_df_train.to_csv(\n",
    "    \"data/acl/sections/labelled/manuel/sections_grouped_orderby-stars/processed/min_intersection_train.csv\", index=False)\n",
    "union_df_train.to_csv(\n",
    "    \"data/acl/sections/labelled/manuel/sections_grouped_orderby-stars/processed/union_train.csv\", index=False)\n"
   ]
  },
  {
   "cell_type": "code",
   "execution_count": 13,
   "metadata": {},
   "outputs": [],
   "source": [
    "# zip these 3 cvs files\n",
    "import zipfile\n",
    "with zipfile.ZipFile(\"data/acl/sections/labelled/manuel/sections_grouped_orderby-stars/processed/train_data.zip\", 'w') as zipf:\n",
    "    zipf.write(\"data/acl/sections/labelled/manuel/sections_grouped_orderby-stars/processed/intersection_train.csv\",\n",
    "               arcname=\"intersection_train.csv\")\n",
    "    zipf.write(\"data/acl/sections/labelled/manuel/sections_grouped_orderby-stars/processed/min_intersection_train.csv\",\n",
    "               arcname=\"min_intersection_train.csv\")\n",
    "    zipf.write(\"data/acl/sections/labelled/manuel/sections_grouped_orderby-stars/processed/union_train.csv\",\n",
    "               arcname=\"union_train.csv\")"
   ]
  }
 ],
 "metadata": {
  "kernelspec": {
   "display_name": ".venv",
   "language": "python",
   "name": "python3"
  },
  "language_info": {
   "codemirror_mode": {
    "name": "ipython",
    "version": 3
   },
   "file_extension": ".py",
   "mimetype": "text/x-python",
   "name": "python",
   "nbconvert_exporter": "python",
   "pygments_lexer": "ipython3",
   "version": "3.9.13"
  },
  "orig_nbformat": 4
 },
 "nbformat": 4,
 "nbformat_minor": 2
}
