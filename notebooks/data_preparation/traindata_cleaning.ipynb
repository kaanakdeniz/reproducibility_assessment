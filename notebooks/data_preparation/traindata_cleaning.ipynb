{
 "cells": [
  {
   "cell_type": "code",
   "execution_count": null,
   "metadata": {},
   "outputs": [],
   "source": [
    "import pandas as pd\n",
    "from sentence_transformers import SentenceTransformer\n",
    "import torch\n",
    "from tqdm.auto import tqdm\n",
    "from util.labelling_helper import GroundTruthLabellingHelper\n",
    "tqdm.pandas()\n"
   ]
  },
  {
   "cell_type": "code",
   "execution_count": 25,
   "metadata": {},
   "outputs": [],
   "source": [
    "df = pd.read_csv('data/acl/sections/sections_clean.csv')\n",
    "df.parent_header.fillna('', inplace=True)"
   ]
  },
  {
   "cell_type": "code",
   "execution_count": 26,
   "metadata": {},
   "outputs": [
    {
     "data": {
      "text/plain": [
       "count    35482.000000\n",
       "mean        52.077194\n",
       "std         92.840608\n",
       "min          1.000000\n",
       "25%         14.000000\n",
       "50%         31.000000\n",
       "75%         65.000000\n",
       "max      11207.000000\n",
       "Name: content_length, dtype: float64"
      ]
     },
     "execution_count": 26,
     "metadata": {},
     "output_type": "execute_result"
    }
   ],
   "source": [
    "df[\"content_length\"] = df.content.apply(lambda x: len(x.split(\" \")))\n",
    "metrics = df.content_length.describe()\n",
    "metrics"
   ]
  },
  {
   "cell_type": "code",
   "execution_count": 13,
   "metadata": {},
   "outputs": [
    {
     "data": {
      "text/plain": [
       "(33003, 8)"
      ]
     },
     "execution_count": 13,
     "metadata": {},
     "output_type": "execute_result"
    }
   ],
   "source": [
    "upper_median_df = df.loc[df.content_length.apply(lambda x: (x < metrics[\"mean\"] + metrics[\"std\"]))]\n",
    "upper_median_df.shape\n"
   ]
  },
  {
   "cell_type": "code",
   "execution_count": null,
   "metadata": {},
   "outputs": [],
   "source": [
    "device = \"cuda\" if torch.cuda.is_available() else \"cpu\"\n",
    "model = SentenceTransformer('all-mpnet-base-v2', device=device)\n",
    "labelling_helper = GroundTruthLabellingHelper(model)\n"
   ]
  },
  {
   "cell_type": "code",
   "execution_count": null,
   "metadata": {},
   "outputs": [],
   "source": [
    "labelled_df = upper_median_df.copy()\n",
    "labelled_df[\"text\"] = labelled_df[[\"parent_header\", \"header\", \"content\"]].apply(\n",
    "    lambda x: '\\n'.join(filter(None, x)), axis=1)\n",
    "labelled_df[[\"label\", \"score\"]] = labelled_df[\"text\"].progress_apply(\n",
    "    lambda x: pd.Series(labelling_helper.get_most_similar_group(x)))\n"
   ]
  },
  {
   "cell_type": "code",
   "execution_count": null,
   "metadata": {},
   "outputs": [],
   "source": [
    "labelled_df.score.describe()\n"
   ]
  },
  {
   "cell_type": "code",
   "execution_count": null,
   "metadata": {},
   "outputs": [],
   "source": [
    "labelled_df = df.copy()\n",
    "labelled_df[\"text\"] = labelled_df[[\"parent_header\", \"header\", \"content\"]].apply(\n",
    "    lambda x: '\\n'.join(filter(None, x)), axis=1)\n",
    "labelled_df[[\"label\", \"score\"]] = labelled_df[\"text\"].progress_apply(\n",
    "    lambda x: pd.Series(labelling_helper.get_most_similar_group(x)))\n"
   ]
  },
  {
   "cell_type": "code",
   "execution_count": null,
   "metadata": {},
   "outputs": [],
   "source": [
    "labelled_df.score.describe()\n"
   ]
  },
  {
   "cell_type": "code",
   "execution_count": null,
   "metadata": {},
   "outputs": [],
   "source": [
    "upper_mean_df = df.loc[df.content.apply(\n",
    "    lambda x: (len(x) > content_length[\"mean\"]))]\n"
   ]
  },
  {
   "cell_type": "code",
   "execution_count": null,
   "metadata": {},
   "outputs": [],
   "source": [
    "labelled_df = upper_mean_df.copy()\n",
    "labelled_df[\"text\"] = labelled_df[[\"parent_header\", \"header\", \"content\"]].apply(\n",
    "    lambda x: '\\n'.join(filter(None, x)), axis=1)\n",
    "labelled_df[[\"label\", \"score\"]] = labelled_df[\"text\"].progress_apply(\n",
    "    lambda x: pd.Series(labelling_helper.get_most_similar_group(x)))\n"
   ]
  },
  {
   "cell_type": "code",
   "execution_count": null,
   "metadata": {},
   "outputs": [],
   "source": [
    "labelled_df.score.describe()\n"
   ]
  },
  {
   "cell_type": "code",
   "execution_count": null,
   "metadata": {},
   "outputs": [],
   "source": [
    "labelled_df.groupby(\"label\").agg({\"score\": [\"mean\", \"count\"]})\n"
   ]
  }
 ],
 "metadata": {
  "kernelspec": {
   "display_name": ".venv",
   "language": "python",
   "name": "python3"
  },
  "language_info": {
   "codemirror_mode": {
    "name": "ipython",
    "version": 3
   },
   "file_extension": ".py",
   "mimetype": "text/x-python",
   "name": "python",
   "nbconvert_exporter": "python",
   "pygments_lexer": "ipython3",
   "version": "3.9.13"
  },
  "orig_nbformat": 4
 },
 "nbformat": 4,
 "nbformat_minor": 2
}
