{
 "cells": [
  {
   "cell_type": "code",
   "execution_count": null,
   "metadata": {},
   "outputs": [],
   "source": [
    "from util.string_helper import word_tokenize, clear_special_characters\n",
    "import pandas as pd\n",
    "import numpy as np\n",
    "import nltk\n",
    "import json\n",
    "from util.string_helper import clear_text\n"
   ]
  },
  {
   "cell_type": "code",
   "execution_count": null,
   "metadata": {},
   "outputs": [],
   "source": [
    "nltk.download('punkt')\n",
    "droplist = json.load(open(\"data/constants/header_droplist.json\", \"r\"))\n"
   ]
  },
  {
   "cell_type": "code",
   "execution_count": null,
   "metadata": {},
   "outputs": [],
   "source": [
    "def preprocessing(text):\n",
    "    text = str(text)\n",
    "    text = word_tokenize(text.lower())\n",
    "    text = clear_special_characters(text)\n",
    "    text = [word for word in text if len(word) > 1]\n",
    "    return \" \".join(text)\n"
   ]
  },
  {
   "cell_type": "code",
   "execution_count": null,
   "metadata": {},
   "outputs": [],
   "source": [
    "# Header'ı veya içeriği boş olan ve tekrarlanan sectionların temizlenmesi\n",
    "df = pd.read_csv(\"data/acl/sections/sections.csv\")\n",
    "print(df.shape)\n",
    "df = df.dropna(subset=[\"header\", \"content\"])\n",
    "df.replace(np.nan, '', inplace=True)\n",
    "df.drop_duplicates(subset=[\"header\", \"content\"], inplace=True)\n",
    "print(df.shape)\n"
   ]
  },
  {
   "cell_type": "code",
   "execution_count": null,
   "metadata": {},
   "outputs": [],
   "source": [
    "# Preprocessing fonksiyonu ile temizlenen başlıklardan sonra başlığı olmayan sectionların temizlenmesi\n",
    "df[\"header_concat\"] = df['parent_header'].astype(str) + \" \" + df[\"header\"]\n",
    "df[[\"header_clean\"]] = df[[\"header_concat\"]].applymap(preprocessing)\n",
    "clean_df = df[(df[\"header_clean\"] != \"\")]\n",
    "clean_df.shape\n"
   ]
  },
  {
   "cell_type": "code",
   "execution_count": null,
   "metadata": {},
   "outputs": [],
   "source": [
    "# Belirlenen keywordleri içeren başlıklara sahip sectionların temizlenmesi\n",
    "\n",
    "dropped_df = clean_df[~clean_df[\"header_clean\"].str.lower(\n",
    ").str.contains(\"|\".join(droplist))]\n",
    "dropped_df.to_csv(\"data/acl/sections/sections_header_clean.csv\", index=False)\n",
    "dropped_df.shape\n"
   ]
  },
  {
   "cell_type": "code",
   "execution_count": null,
   "metadata": {},
   "outputs": [],
   "source": [
    "drop_df = clean_df[clean_df[\"header_clean\"].str.lower(\n",
    ").str.contains(\"|\".join(droplist))]\n",
    "drop_df.shape\n"
   ]
  },
  {
   "cell_type": "code",
   "execution_count": null,
   "metadata": {},
   "outputs": [],
   "source": [
    "all_header_freqs = clean_df.groupby(\"header_clean\").count(\n",
    ").sort_values(by=\"header\", ascending=False)[\"header\"]\n",
    "dropped_header_freqs = dropped_df.groupby(\"header_clean\").count(\n",
    ").sort_values(by=\"header\", ascending=False)[\"header\"]\n",
    "drop_header_freqs = drop_df.groupby(\"header_clean\").count(\n",
    ").sort_values(by=\"header\", ascending=False)[\"header\"]\n"
   ]
  },
  {
   "cell_type": "code",
   "execution_count": null,
   "metadata": {},
   "outputs": [],
   "source": [
    "all_header_freqs.to_csv(\"data/acl/sections/analysis/header_freqs.csv\")\n",
    "dropped_header_freqs.to_csv(\n",
    "    \"data/acl/sections/analysis/dropped_header_freqs.csv\")\n",
    "drop_header_freqs.to_csv(\"data/acl/sections/analysis/drop_header_freqs.csv\")\n"
   ]
  },
  {
   "cell_type": "code",
   "execution_count": null,
   "metadata": {},
   "outputs": [],
   "source": [
    "cleaned_df = dropped_df.copy()\n",
    "cleaned_df.drop(columns=[\"header_concat\", \"header_clean\"], inplace=True)\n",
    "cleaned_df.header = cleaned_df.header.apply(clear_text)\n",
    "cleaned_df.parent_header.fillna(\"\", inplace=True)\n",
    "cleaned_df.parent_header = cleaned_df.parent_header.apply(clear_text)\n",
    "cleaned_df.content = cleaned_df.content.apply(clear_text)\n",
    "cleaned_df.dropna(subset=[\"content\"], inplace=True)\n",
    "cleaned_df.drop(cleaned_df[cleaned_df[\"header\"] == ''].index, inplace=True)\n",
    "cleaned_df.to_csv('data/acl/sections/sections_clean.csv')\n"
   ]
  }
 ],
 "metadata": {
  "kernelspec": {
   "display_name": ".venv",
   "language": "python",
   "name": "python3"
  },
  "language_info": {
   "codemirror_mode": {
    "name": "ipython",
    "version": 3
   },
   "file_extension": ".py",
   "mimetype": "text/x-python",
   "name": "python",
   "nbconvert_exporter": "python",
   "pygments_lexer": "ipython3",
   "version": "3.9.13"
  },
  "orig_nbformat": 4
 },
 "nbformat": 4,
 "nbformat_minor": 2
}
